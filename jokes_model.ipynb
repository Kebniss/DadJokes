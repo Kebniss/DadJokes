{
  "nbformat": 4,
  "nbformat_minor": 0,
  "metadata": {
    "colab": {
      "name": "jokes_model.ipynb",
      "version": "0.3.2",
      "provenance": [],
      "collapsed_sections": []
    },
    "kernelspec": {
      "name": "python3",
      "display_name": "Python 3"
    },
    "accelerator": "GPU"
  },
  "cells": [
    {
      "cell_type": "markdown",
      "metadata": {
        "id": "SGLTluK1SFIt",
        "colab_type": "text"
      },
      "source": [
        "# Download PyTorch\n",
        "\n",
        "PyTorch does not come with CoLab so every time we restart this notebook we have to redownload it."
      ]
    },
    {
      "cell_type": "code",
      "metadata": {
        "id": "_WMSs6co-65T",
        "colab_type": "code",
        "outputId": "0536016f-2887-4a61-940d-f75d101e3a73",
        "colab": {
          "base_uri": "https://localhost:8080/",
          "height": 34
        }
      },
      "source": [
        "import sys\n",
        "sys.version"
      ],
      "execution_count": 0,
      "outputs": [
        {
          "output_type": "execute_result",
          "data": {
            "text/plain": [
              "'3.6.7 (default, Oct 22 2018, 11:32:17) \\n[GCC 8.2.0]'"
            ]
          },
          "metadata": {
            "tags": []
          },
          "execution_count": 1
        }
      ]
    },
    {
      "cell_type": "code",
      "metadata": {
        "id": "Ljxs2bw5-681",
        "colab_type": "code",
        "colab": {}
      },
      "source": [
        "!pip install -q torch==1.0.0 torchvision"
      ],
      "execution_count": 0,
      "outputs": []
    },
    {
      "cell_type": "code",
      "metadata": {
        "id": "A9Hs3CXBGO8H",
        "colab_type": "code",
        "outputId": "825a5fef-57ed-498b-8f2c-9e07cb7c54ea",
        "colab": {
          "base_uri": "https://localhost:8080/",
          "height": 34
        }
      },
      "source": [
        "# we will verify that GPU is enabled for this notebook\n",
        "# following should print: CUDA is available!  Training on GPU ...\n",
        "# \n",
        "# if it prints otherwise, then you need to enable GPU: \n",
        "# from Menu > Runtime > Change Runtime Type > Hardware Accelerator > GPU\n",
        "\n",
        "import torch\n",
        "import numpy as np\n",
        "\n",
        "# check if CUDA is available\n",
        "train_on_gpu = torch.cuda.is_available()\n",
        "\n",
        "if not train_on_gpu:\n",
        "    print('CUDA is not available.  Training on CPU ...')\n",
        "else:\n",
        "    print('CUDA is available!  Training on GPU ...')"
      ],
      "execution_count": 0,
      "outputs": [
        {
          "output_type": "stream",
          "text": [
            "CUDA is available!  Training on GPU ...\n"
          ],
          "name": "stdout"
        }
      ]
    },
    {
      "cell_type": "code",
      "metadata": {
        "id": "PxhcgjVI_Lmv",
        "colab_type": "code",
        "outputId": "a29f0400-a1ed-4bad-9e65-5c95df6baf74",
        "colab": {
          "base_uri": "https://localhost:8080/",
          "height": 238
        }
      },
      "source": [
        "!pip install pytorch-nlp"
      ],
      "execution_count": 0,
      "outputs": [
        {
          "output_type": "stream",
          "text": [
            "Requirement already satisfied: pytorch-nlp in /usr/local/lib/python3.6/dist-packages (0.3.7.post1)\n",
            "Requirement already satisfied: pandas in /usr/local/lib/python3.6/dist-packages (from pytorch-nlp) (0.22.0)\n",
            "Requirement already satisfied: tqdm in /usr/local/lib/python3.6/dist-packages (from pytorch-nlp) (4.28.1)\n",
            "Requirement already satisfied: requests in /usr/local/lib/python3.6/dist-packages (from pytorch-nlp) (2.18.4)\n",
            "Requirement already satisfied: numpy in /usr/local/lib/python3.6/dist-packages (from pytorch-nlp) (1.14.6)\n",
            "Requirement already satisfied: python-dateutil>=2 in /usr/local/lib/python3.6/dist-packages (from pandas->pytorch-nlp) (2.5.3)\n",
            "Requirement already satisfied: pytz>=2011k in /usr/local/lib/python3.6/dist-packages (from pandas->pytorch-nlp) (2018.9)\n",
            "Requirement already satisfied: urllib3<1.23,>=1.21.1 in /usr/local/lib/python3.6/dist-packages (from requests->pytorch-nlp) (1.22)\n",
            "Requirement already satisfied: idna<2.7,>=2.5 in /usr/local/lib/python3.6/dist-packages (from requests->pytorch-nlp) (2.6)\n",
            "Requirement already satisfied: certifi>=2017.4.17 in /usr/local/lib/python3.6/dist-packages (from requests->pytorch-nlp) (2018.11.29)\n",
            "Requirement already satisfied: chardet<3.1.0,>=3.0.2 in /usr/local/lib/python3.6/dist-packages (from requests->pytorch-nlp) (3.0.4)\n",
            "Requirement already satisfied: six>=1.5 in /usr/local/lib/python3.6/dist-packages (from python-dateutil>=2->pandas->pytorch-nlp) (1.11.0)\n"
          ],
          "name": "stdout"
        }
      ]
    },
    {
      "cell_type": "markdown",
      "metadata": {
        "id": "JzmUMWtFSBKg",
        "colab_type": "text"
      },
      "source": [
        "# Define classes"
      ]
    },
    {
      "cell_type": "code",
      "metadata": {
        "id": "68Y3QblS-1Cb",
        "colab_type": "code",
        "colab": {}
      },
      "source": [
        "import torch\n",
        "import pandas as pd\n",
        "import numpy as np\n",
        "import torch\n",
        "import torch.nn.functional as F\n",
        "import multiprocessing as mp\n",
        "from torch import nn\n",
        "from torch.utils.data import Dataset, DataLoader\n",
        "from torch.optim.lr_scheduler import *\n",
        "from typing import List, Tuple\n",
        "import os\n",
        "import csv\n",
        "import time"
      ],
      "execution_count": 0,
      "outputs": []
    },
    {
      "cell_type": "code",
      "metadata": {
        "id": "FnioLGzu-1Cf",
        "colab_type": "code",
        "colab": {}
      },
      "source": [
        "from torchnlp.samplers import BucketBatchSampler\n",
        "from torchnlp.datasets import snli_dataset\n",
        "from torchnlp.utils import datasets_iterator\n",
        "from torchnlp import word_to_vector"
      ],
      "execution_count": 0,
      "outputs": []
    },
    {
      "cell_type": "code",
      "metadata": {
        "id": "raAsSpRw-1Ci",
        "colab_type": "code",
        "colab": {}
      },
      "source": [
        "import sys\n",
        "import tqdm as tq\n",
        "from tqdm import tqdm_notebook, tnrange\n",
        "\n",
        "\n",
        "def in_ipynb():\n",
        "    try:\n",
        "        cls = get_ipython().__class__.__name__\n",
        "        return cls == 'ZMQInteractiveShell'\n",
        "    except NameError:\n",
        "        return False\n",
        "\n",
        "\n",
        "def in_notebook():\n",
        "    try:\n",
        "        from ipykernel.kernelapp import IPKernelApp\n",
        "        return IPKernelApp.initialized()\n",
        "    except ImportError:\n",
        "        return False\n",
        "\n",
        "\n",
        "def clear_tqdm():\n",
        "    inst = getattr(tq.tqdm, '_instances', None)\n",
        "    if not inst: return\n",
        "    try:\n",
        "        for i in range(len(inst)): inst.pop().close()\n",
        "    except Exception:\n",
        "        pass\n",
        "\n",
        "if in_notebook():\n",
        "    def tqdm(*args, **kwargs):\n",
        "        clear_tqdm()\n",
        "        return tq.tqdm(*args, file=sys.stdout, **kwargs)\n",
        "    def trange(*args, **kwargs):\n",
        "        clear_tqdm()\n",
        "        return tq.trange(*args, file=sys.stdout, **kwargs)\n",
        "else:\n",
        "    from tqdm import tqdm, trange\n",
        "    tnrange=trange\n",
        "    tqdm_notebook=tqdm"
      ],
      "execution_count": 0,
      "outputs": []
    },
    {
      "cell_type": "code",
      "metadata": {
        "id": "tjHKit2mHvRk",
        "colab_type": "code",
        "colab": {}
      },
      "source": [
        "from typing import List, Union\n",
        "from collections import deque\n",
        "\n",
        "class CharByteEncoder():\n",
        "  def __init__(self):\n",
        "    self.start_token = '<s>'\n",
        "    self.end_token = '</s>'\n",
        "    self.pad_token = '<pad>'\n",
        "    \n",
        "    self.start_idx = 256\n",
        "    self.end_idx = 257\n",
        "    self.pad_idx = 258\n",
        "    \n",
        "  def encode(self, s: str, pad_to=0) -> torch.LongTensor:\n",
        "    encoded = s.encode()\n",
        "    n_pad = pad_to - len(encoded) if pad_to > len(encoded) else 0\n",
        "    return torch.LongTensor([self.start_idx] + \n",
        "            [c for c in encoded] + \n",
        "            [self.end_idx] + \n",
        "            [self.pad_idx for _ in range(n_pad)]\n",
        "    )\n",
        "  \n",
        "  def decode(self, char_ids_tensor: torch.LongTensor) -> str:\n",
        "    \"\"\"\n",
        "    Decodes a list of char IDs. The structure can be like this:\n",
        "    <s>[body]</s><pad>* so we check for that.\n",
        "    \"\"\"\n",
        "    char_ids = char_ids_tensor.cpu().detach().tolist()\n",
        "    \n",
        "    out = []\n",
        "    buf = []\n",
        "    for c in char_ids:\n",
        "      if c < 256:\n",
        "        buf.append(c)\n",
        "      else:\n",
        "        if buf:\n",
        "          out.append(bytes(buf).decode())\n",
        "          buf = []\n",
        "        if c == self.start_idx:\n",
        "          out.append(self.start_token)\n",
        "        elif c == self.end_idx:\n",
        "          out.append(self.end_token)\n",
        "        elif c == self.pad_idx:\n",
        "          out.append(self.pad_token)\n",
        "      \n",
        "    if buf:  # in case some are left\n",
        "      out.append(bytes(buf).decode())\n",
        "    return ''.join(out)\n",
        "\n",
        "  def __len__(self):\n",
        "    return 259 # 256 combinations in a byte, plus 3 special chars"
      ],
      "execution_count": 0,
      "outputs": []
    },
    {
      "cell_type": "code",
      "metadata": {
        "id": "9BjZ-gnhSbkn",
        "colab_type": "code",
        "outputId": "ce9e23a3-03f9-46cf-d580-4f5c5fcab7fd",
        "colab": {
          "base_uri": "https://localhost:8080/",
          "height": 34
        }
      },
      "source": [
        "import os\n",
        "os.getcwd()"
      ],
      "execution_count": 0,
      "outputs": [
        {
          "output_type": "execute_result",
          "data": {
            "text/plain": [
              "'/content'"
            ]
          },
          "metadata": {
            "tags": []
          },
          "execution_count": 9
        }
      ]
    },
    {
      "cell_type": "code",
      "metadata": {
        "id": "PZcggEha-1Cn",
        "colab_type": "code",
        "colab": {}
      },
      "source": [
        "DATASET_PATH = \"shortjokes.csv\"\n",
        "DATASET_FILE_ID = \"1bplfuUrJEnpi6r78LQtO3IufzCSSVJaC\"\n",
        "DATASET_URL = \"https://github.com/amoudgl/short-jokes-dataset/raw/master/shortjokes.csv\""
      ],
      "execution_count": 0,
      "outputs": []
    },
    {
      "cell_type": "code",
      "metadata": {
        "id": "5nO_WGraCOPR",
        "colab_type": "code",
        "outputId": "4aa18cc4-317d-4ef1-dfca-3721b4fe6b44",
        "colab": {
          "base_uri": "https://localhost:8080/",
          "height": 34
        }
      },
      "source": [
        "import urllib.request\n",
        "...\n",
        "# Download the file from `url` and save it locally under `file_name`:\n",
        "urllib.request.urlretrieve(DATASET_URL, DATASET_PATH)"
      ],
      "execution_count": 0,
      "outputs": [
        {
          "output_type": "execute_result",
          "data": {
            "text/plain": [
              "('shortjokes.csv', <http.client.HTTPMessage at 0x7fbbe45b03c8>)"
            ]
          },
          "metadata": {
            "tags": []
          },
          "execution_count": 11
        }
      ]
    },
    {
      "cell_type": "markdown",
      "metadata": {
        "id": "LFYJ5vFupRUm",
        "colab_type": "text"
      },
      "source": [
        "PyTorch wants us to define a Dataset class that will be used during training. We are training our language model by having multiple sequences each batch. Each joke needs to stay together for the LSTM to learn the sequential relationship. We are therefore making each sample a joke, with the target being the next character. So if the input is `\"<s>hello!</s>\"` then we are going to have this: `{text: '<s>hello', next: 'hello</s>'}`."
      ]
    },
    {
      "cell_type": "code",
      "metadata": {
        "id": "NoNo3036-1Cp",
        "colab_type": "code",
        "colab": {}
      },
      "source": [
        "from torch.utils.data import Dataset\n",
        "\n",
        "class DadJokesDataset(Dataset):\n",
        "    def __init__(self, path):\n",
        "        self.data = pd.read_csv(path, sep=',')['Joke'].tolist()\n",
        "        self.text_encoder = CharByteEncoder()\n",
        "        self.samples = []\n",
        "        for _ in range(len(self.data)):\n",
        "            joke = self.data.pop()\n",
        "            encoded_joke = self.text_encoder.encode(joke)\n",
        "            encoded_sample = self.generate_language_model_samples(encoded_joke)\n",
        "            self.samples.append(encoded_sample)\n",
        "        del self.data        \n",
        "        \n",
        "    def generate_language_model_samples(self, joke):\n",
        "        \"\"\"\n",
        "        Input: '<s>my funny joke</s>'\n",
        "        Output: {\n",
        "          text: '<s>my funny joke'\n",
        "          next: 'my funny joke</s>'\n",
        "        }\n",
        "        \"\"\"\n",
        "        res = {}\n",
        "        res['text'] = joke[:-1]\n",
        "        res['next'] = joke[1:]\n",
        "        return res\n",
        "        \n",
        "    def __len__(self):\n",
        "        return len(self.samples)\n",
        "    \n",
        "    def __getitem__(self, i):\n",
        "        return self.samples[i]\n",
        "    \n",
        "    def getitem_readable(self, i):\n",
        "        return {'text': self.text_encoder.decode(self.samples[i]['text']),\n",
        "               'next': self.text_encoder.decode(self.samples[i]['next'])}\n",
        "    "
      ],
      "execution_count": 0,
      "outputs": []
    },
    {
      "cell_type": "code",
      "metadata": {
        "id": "ecXV1YvrokZH",
        "colab_type": "code",
        "colab": {}
      },
      "source": [
        "jokes_dataset = DadJokesDataset(DATASET_PATH)"
      ],
      "execution_count": 0,
      "outputs": []
    },
    {
      "cell_type": "markdown",
      "metadata": {
        "id": "qEDyThdsMSOI",
        "colab_type": "text"
      },
      "source": [
        "Checking that the max size of a sequence is not too bad to make sure padding and memory are taken care of"
      ]
    },
    {
      "cell_type": "code",
      "metadata": {
        "id": "4EyR2x7yvjnZ",
        "colab_type": "code",
        "outputId": "8f9156f6-4352-4acf-e4e3-69f09966b065",
        "colab": {
          "base_uri": "https://localhost:8080/",
          "height": 34
        }
      },
      "source": [
        "max((len(p['text']) for p in jokes_dataset))"
      ],
      "execution_count": 0,
      "outputs": [
        {
          "output_type": "execute_result",
          "data": {
            "text/plain": [
              "201"
            ]
          },
          "metadata": {
            "tags": []
          },
          "execution_count": 14
        }
      ]
    },
    {
      "cell_type": "markdown",
      "metadata": {
        "id": "_ApouVmZqQLE",
        "colab_type": "text"
      },
      "source": [
        "Our model is going to be made by multiple LSTM layers stacked on top of each other."
      ]
    },
    {
      "cell_type": "code",
      "metadata": {
        "id": "a2TwHB7Rob6g",
        "colab_type": "code",
        "colab": {}
      },
      "source": [
        "from torch.nn.utils.rnn import pack_padded_sequence, pad_packed_sequence\n",
        "\n",
        "class CharLstmLanguageModel(nn.Module):\n",
        "    def __init__(self, char_embedding_dim, lstm_dim, projection_size, n_lstm_layers=1, dropout=0):\n",
        "        super().__init__()\n",
        "        self.n_lstm_layers = n_lstm_layers\n",
        "        self.n_chars = 259\n",
        "        self.char_embedding_dim = char_embedding_dim\n",
        "        self.projection_size = projection_size\n",
        "        \n",
        "        # initialize lookup table of fixed dictionary and size, 0 = padding idx\n",
        "        self.char_embedder = nn.Embedding(self.n_chars, \n",
        "                                          self.char_embedding_dim, \n",
        "                                          padding_idx=258\n",
        "        )\n",
        "        \n",
        "        # lstm_dim = size of one lstm hidden layer\n",
        "        # n_lstm_layers = number of stacked lstms\n",
        "        \n",
        "        self.lstm = nn.LSTM(char_embedding_dim, \n",
        "                            lstm_dim, \n",
        "                            n_lstm_layers, \n",
        "                            batch_first=True, \n",
        "                            dropout=dropout, \n",
        "                            bidirectional=False,  # We want to use this for generation so we won't have all the seq together\n",
        "        )\n",
        "        \n",
        "        # creates a pipeline to transform the output of the lstm into a list where each position is a char idx\n",
        "        # and its values can be projected by ReLU to be the confidence for each character\n",
        "        self.projection = nn.Sequential(*[\n",
        "            nn.Linear(lstm_dim, self.projection_size),\n",
        "            nn.ReLU(),\n",
        "            nn.Dropout(dropout),\n",
        "            nn.Linear(self.projection_size, self.n_chars),\n",
        "        ])\n",
        "        \n",
        "    def forward(self, char_ids, hidden=None, pack=True):\n",
        "        # char_ids of shape [b_sz, max_sq_len (w/ pads)]\n",
        "        x = self.char_embedder(char_ids)  # -> shape [b_sz, max_sq_len, char_emb_sz]\n",
        "        \n",
        "        x, hidden = self.lstm(x, hidden)  # -> shape [b_sz, max_sq_len, lstm_dim]\n",
        "\n",
        "        return self.projection(x), hidden  # -> projection's shape: [b_sz, max_sq_len, total_num_characters]\n",
        "                                           # -> (seq_len, batch, num_directions * hidden_size)\n",
        "                                           # hidden is a tuple (hidden_state, cell_state). Both are of shape (n_lstm_layers, b_sz, lstm_dim) \n",
        "        "
      ],
      "execution_count": 0,
      "outputs": []
    },
    {
      "cell_type": "code",
      "metadata": {
        "id": "eqryQJXpoc_7",
        "colab_type": "code",
        "colab": {}
      },
      "source": [
        "from torch.nn.utils.rnn import pad_sequence, pack_sequence\n",
        "\n",
        "def padded_collate(batch, padding_idx=258):\n",
        "    x = pad_sequence([elem['text'] for elem in batch], batch_first=True, padding_value=padding_idx)\n",
        "    y = pad_sequence([elem['next'] for elem in batch], batch_first=True, padding_value=padding_idx)\n",
        "    \n",
        "    return {'text': x, 'next': y}"
      ],
      "execution_count": 0,
      "outputs": []
    },
    {
      "cell_type": "code",
      "metadata": {
        "id": "zqShIRDznDy6",
        "colab_type": "code",
        "colab": {}
      },
      "source": [
        "model = CharLstmLanguageModel(16,  # char_embedding_dim \n",
        "                              1024,  # lstm_hidden_dim\n",
        "                              512,\n",
        "                              n_lstm_layers=2,\n",
        "                              dropout=0.3,\n",
        "                             )"
      ],
      "execution_count": 0,
      "outputs": []
    },
    {
      "cell_type": "code",
      "metadata": {
        "id": "OzqATMepnD1m",
        "colab_type": "code",
        "outputId": "72c7a2bc-10fd-44f0-a388-2bb1c64169e6",
        "colab": {
          "base_uri": "https://localhost:8080/",
          "height": 34
        }
      },
      "source": [
        "device = torch.device(\"cuda:0\" if torch.cuda.is_available() else \"cpu\")\n",
        "device"
      ],
      "execution_count": 0,
      "outputs": [
        {
          "output_type": "execute_result",
          "data": {
            "text/plain": [
              "device(type='cuda', index=0)"
            ]
          },
          "metadata": {
            "tags": []
          },
          "execution_count": 18
        }
      ]
    },
    {
      "cell_type": "markdown",
      "metadata": {
        "id": "z9N3aexRMlTe",
        "colab_type": "text"
      },
      "source": [
        "Let's define a train function."
      ]
    },
    {
      "cell_type": "code",
      "metadata": {
        "id": "pS1VqD8vqioP",
        "colab_type": "code",
        "colab": {}
      },
      "source": [
        "def train(model, dataset, n_epochs, lr=0.01, batch_size=32, model_checkpoint_folder=None):\n",
        "    device = torch.device(\"cuda:0\" if torch.cuda.is_available() else \"cpu\")\n",
        "    criterion = nn.CrossEntropyLoss(ignore_index=0, reduction='elementwise_mean')\n",
        "    \n",
        "    train_sampler = BucketBatchSampler(dataset, batch_size, True, sort_key=lambda r: len(r['text']))\n",
        "    data_loader = DataLoader(dataset, batch_sampler=train_sampler, collate_fn=padded_collate, num_workers=mp.cpu_count())\n",
        "    optimizer = torch.optim.Adam(model.parameters(), lr=lr)\n",
        "    \n",
        "    plateau_scheduler = ReduceLROnPlateau(optimizer, 'min', patience=2, verbose=True)\n",
        "    \n",
        "    model = model.to(device).train()\n",
        "    \n",
        "    avg_loss = 0.0\n",
        "    avg_mom=0.98\n",
        "    losses = []\n",
        "    for epoch in range(1, n_epochs+1):\n",
        "        t = tqdm(iter(data_loader), leave=False, total=len(data_loader), miniters=0)\n",
        "        epoch_losses = []\n",
        "        for i, batch in enumerate(t):\n",
        "            optimizer.zero_grad()\n",
        "\n",
        "            label = batch['next'].to(device)\n",
        "            pred, _ = model(batch['text'].to(device))\n",
        "            \n",
        "            batch_sz, seq_len, n_chars = pred.shape\n",
        "            \n",
        "            loss = criterion(pred.view(batch_sz * seq_len, -1), label.view(batch_sz * seq_len))\n",
        "            \n",
        "            loss_numeric = float(loss)\n",
        "            epoch_losses.append(loss_numeric)\n",
        "            avg_loss = avg_loss * avg_mom + loss_numeric * (1-avg_mom)\n",
        "            debias_loss = avg_loss / (1 - avg_mom**(i+1))\n",
        "            \n",
        "            # ??\n",
        "            lrs = \",\".join([str(param_group['lr']) for param_group in optimizer.param_groups])\n",
        "            # ??\n",
        "            t.set_postfix(loss=debias_loss, \n",
        "                          learning_rate=lrs,\n",
        "                          epoch=epoch,\n",
        "                         )\n",
        "\n",
        "            loss.backward()\n",
        "            # update weights using optimizer formula\n",
        "            optimizer.step()\n",
        "        \n",
        "        epoch_loss = sum(epoch_losses) / len(data_loader)\n",
        "        print(f\"\\nEpoch {epoch} loss: {epoch_loss}\")\n",
        "        losses.append(epoch_loss)\n",
        "        plateau_scheduler.step(epoch_loss)\n",
        "        epoch_losses = []\n",
        "        # save model\n",
        "        if model_checkpoint_folder:\n",
        "            model_save_path = model_checkpoint_folder + \"model_epoch_{}.pt\".format(epoch)\n",
        "            torch.save(model, model_save_path)\n",
        "    return losses\n",
        "    \n",
        "        "
      ],
      "execution_count": 0,
      "outputs": []
    },
    {
      "cell_type": "code",
      "metadata": {
        "id": "XPyyv6P4qi2d",
        "colab_type": "code",
        "colab": {}
      },
      "source": [
        "MODEL_CHECKPOINT_FOLDER = \"checkpoints/\"\n",
        "if not os.path.isdir(MODEL_CHECKPOINT_FOLDER):\n",
        "  os.makedirs(MODEL_CHECKPOINT_FOLDER)"
      ],
      "execution_count": 0,
      "outputs": []
    },
    {
      "cell_type": "code",
      "metadata": {
        "id": "E-8BiVvLvNnZ",
        "colab_type": "code",
        "outputId": "dcf4be85-4596-49ec-ae48-e0cbb4b38569",
        "colab": {
          "base_uri": "https://localhost:8080/",
          "height": 185
        }
      },
      "source": [
        "model"
      ],
      "execution_count": 0,
      "outputs": [
        {
          "output_type": "execute_result",
          "data": {
            "text/plain": [
              "CharLstmLanguageModel(\n",
              "  (char_embedder): Embedding(259, 16, padding_idx=258)\n",
              "  (lstm): LSTM(16, 1024, num_layers=2, batch_first=True, dropout=0.3)\n",
              "  (projection): Sequential(\n",
              "    (0): Linear(in_features=1024, out_features=512, bias=True)\n",
              "    (1): ReLU()\n",
              "    (2): Dropout(p=0.3)\n",
              "    (3): Linear(in_features=512, out_features=259, bias=True)\n",
              "  )\n",
              ")"
            ]
          },
          "metadata": {
            "tags": []
          },
          "execution_count": 21
        }
      ]
    },
    {
      "cell_type": "code",
      "metadata": {
        "id": "i9MJbwNZvSQ3",
        "colab_type": "code",
        "outputId": "c1128da7-17ee-4e5d-d422-0e8b02a8dc81",
        "colab": {
          "base_uri": "https://localhost:8080/",
          "height": 302
        }
      },
      "source": [
        "!nvidia-smi"
      ],
      "execution_count": 0,
      "outputs": [
        {
          "output_type": "stream",
          "text": [
            "Mon Mar  4 17:49:18 2019       \n",
            "+-----------------------------------------------------------------------------+\n",
            "| NVIDIA-SMI 410.79       Driver Version: 410.79       CUDA Version: 10.0     |\n",
            "|-------------------------------+----------------------+----------------------+\n",
            "| GPU  Name        Persistence-M| Bus-Id        Disp.A | Volatile Uncorr. ECC |\n",
            "| Fan  Temp  Perf  Pwr:Usage/Cap|         Memory-Usage | GPU-Util  Compute M. |\n",
            "|===============================+======================+======================|\n",
            "|   0  Tesla K80           Off  | 00000000:00:04.0 Off |                    0 |\n",
            "| N/A   29C    P8    24W / 149W |     11MiB / 11441MiB |      0%      Default |\n",
            "+-------------------------------+----------------------+----------------------+\n",
            "                                                                               \n",
            "+-----------------------------------------------------------------------------+\n",
            "| Processes:                                                       GPU Memory |\n",
            "|  GPU       PID   Type   Process name                             Usage      |\n",
            "|=============================================================================|\n",
            "|  No running processes found                                                 |\n",
            "+-----------------------------------------------------------------------------+\n"
          ],
          "name": "stdout"
        }
      ]
    },
    {
      "cell_type": "code",
      "metadata": {
        "id": "6X-Nbgs0qi0h",
        "colab_type": "code",
        "colab": {}
      },
      "source": [
        "losses = train(model, \n",
        "               jokes_dataset, \n",
        "               10, \n",
        "               lr=0.01, \n",
        "               batch_size=128, \n",
        "               model_checkpoint_folder=MODEL_CHECKPOINT_FOLDER\n",
        "              )"
      ],
      "execution_count": 0,
      "outputs": []
    },
    {
      "cell_type": "code",
      "metadata": {
        "id": "7IcbrM0Itu9g",
        "colab_type": "code",
        "colab": {}
      },
      "source": [
        "from google.colab import files\n",
        "model_save_path = MODEL_CHECKPOINT_FOLDER + \"dad_jokes_model_3epochs_checkpoint_{}.pt\".format('dadjokes_only')\n",
        "torch.save(model, model_save_path)\n",
        "files.download(model_save_path)"
      ],
      "execution_count": 0,
      "outputs": []
    },
    {
      "cell_type": "code",
      "metadata": {
        "id": "O1_PEZ4UyIHe",
        "colab_type": "code",
        "colab": {}
      },
      "source": [
        "losses_djokes = [2.5633907865067753, 2.188173718120328, 2.1247080455767375, 2.091173592755121]"
      ],
      "execution_count": 0,
      "outputs": []
    },
    {
      "cell_type": "code",
      "metadata": {
        "id": "2OC_PqLm01R5",
        "colab_type": "code",
        "outputId": "643fac00-7ac9-455f-c23f-2ac0212e099e",
        "colab": {
          "base_uri": "https://localhost:8080/",
          "height": 364
        }
      },
      "source": [
        "import matplotlib.pyplot as plt\n",
        "\n",
        "plt.plot(losses_djokes)"
      ],
      "execution_count": 0,
      "outputs": [
        {
          "output_type": "execute_result",
          "data": {
            "text/plain": [
              "[<matplotlib.lines.Line2D at 0x7fbbc6ea05f8>]"
            ]
          },
          "metadata": {
            "tags": []
          },
          "execution_count": 30
        },
        {
          "output_type": "display_data",
          "data": {
            "image/png": "[encoded data removed]",
            "text/plain": [
              "<Figure size 576x396 with 1 Axes>"
            ]
          },
          "metadata": {
            "tags": []
          }
        }
      ]
    },
    {
      "cell_type": "markdown",
      "metadata": {
        "id": "qokBkXloJlD8",
        "colab_type": "text"
      },
      "source": [
        "# Sampling from the model\n",
        "\n",
        "\n",
        "The model may not have learned how to form valid utf-8 sequences (eg for emojis) so we offer an optional argument that sets all non-ASCII bytes to 0 probability."
      ]
    },
    {
      "cell_type": "code",
      "metadata": {
        "id": "JNu4PDguEy89",
        "colab_type": "code",
        "colab": {}
      },
      "source": [
        "def sample(model, start_token='', max_iters=100, temperature=1.0, no_unicode=False):\n",
        "  model = model.to('cpu')\n",
        "  enc = CharByteEncoder()\n",
        "  input_seq = enc.encode(start_token).tolist()[:-1] # Drop the end token\n",
        "  \n",
        "  hidden_prev = None\n",
        " \n",
        "  for t in range(max_iters):\n",
        "    x_t = torch.LongTensor([input_seq[t]]).unsqueeze(0)  # (b_sz=1, seq_len=1)\n",
        "    y_t, hidden_t = model(x_t, hidden_prev)\n",
        "    probs_t = F.softmax(y_t.squeeze() / temperature, dim=0)\n",
        "    \n",
        "    if no_unicode:\n",
        "      mask = torch.cat([torch.ones(128), torch.zeros(128), torch.ones(3)])\n",
        "      probs_t = probs_t * mask\n",
        "\n",
        "    x_next = torch.multinomial(probs_t, 1)  # Randomly picks, based on probabilities\n",
        "\n",
        "    input_seq.append(int(x_next))\n",
        "    if int(x_next) == enc.end_idx:\n",
        "      return enc.decode(torch.LongTensor(input_seq))\n",
        "    hidden_prev = hidden_t\n",
        "    \n",
        "  return enc.decode(torch.LongTensor(input_seq + [enc.end_idx]))\n",
        "  "
      ],
      "execution_count": 0,
      "outputs": []
    },
    {
      "cell_type": "code",
      "metadata": {
        "id": "zVNhh0ocEy63",
        "colab_type": "code",
        "outputId": "0e32ce9a-373b-44ce-dcbf-af0c4a0edc4f",
        "colab": {
          "base_uri": "https://localhost:8080/",
          "height": 34
        }
      },
      "source": [
        "sample(model, no_unicode=True)"
      ],
      "execution_count": 0,
      "outputs": [
        {
          "output_type": "execute_result",
          "data": {
            "text/plain": [
              "'<s>Ktlits I rudiotch nonnine and Recan.</s>'"
            ]
          },
          "metadata": {
            "tags": []
          },
          "execution_count": 32
        }
      ]
    },
    {
      "cell_type": "code",
      "metadata": {
        "id": "M8a_jCkGthmz",
        "colab_type": "code",
        "outputId": "deeee110-ef82-49d0-d533-d496f770c87a",
        "colab": {
          "base_uri": "https://localhost:8080/",
          "height": 34
        }
      },
      "source": [
        "sample(model, no_unicode=True)"
      ],
      "execution_count": 0,
      "outputs": [
        {
          "output_type": "execute_result",
          "data": {
            "text/plain": [
              "'<s>My elarise* the shagt/  y houver...Amwacktla tactunl.</s>'"
            ]
          },
          "metadata": {
            "tags": []
          },
          "execution_count": 34
        }
      ]
    },
    {
      "cell_type": "code",
      "metadata": {
        "id": "EjYRiC52PDZ7",
        "colab_type": "code",
        "outputId": "ea203525-614b-481c-c372-ed254e62cd1a",
        "colab": {
          "base_uri": "https://localhost:8080/",
          "height": 34
        }
      },
      "source": [
        "sample(model, no_unicode=True, start_token='h')"
      ],
      "execution_count": 0,
      "outputs": [
        {
          "output_type": "execute_result",
          "data": {
            "text/plain": [
              "'<s>hIaMcoru vAeH<pad>TNo3e0a </s>'"
            ]
          },
          "metadata": {
            "tags": []
          },
          "execution_count": 35
        }
      ]
    }
  ]
}