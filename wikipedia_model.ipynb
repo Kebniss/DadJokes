{
  "nbformat": 4,
  "nbformat_minor": 0,
  "metadata": {
    "colab": {
      "name": "wikipedia_model.ipynb",
      "version": "0.3.2",
      "provenance": [],
      "collapsed_sections": []
    },
    "kernelspec": {
      "name": "python3",
      "display_name": "Python 3"
    },
    "accelerator": "GPU"
  },
  "cells": [
    {
      "cell_type": "markdown",
      "metadata": {
        "id": "_deeowIYlAZs",
        "colab_type": "text"
      },
      "source": [
        "\n",
        "# Download PyTorch\n",
        "\n",
        "PyTorch does not come with CoLab so every time we restart this notebook we have to redownload it.\n"
      ]
    },
    {
      "cell_type": "code",
      "metadata": {
        "id": "4R8hUE8OjxQt",
        "colab_type": "code",
        "outputId": "12f9b9e1-c186-42cc-c5d5-b5f6ae60d212",
        "colab": {
          "base_uri": "https://localhost:8080/",
          "height": 34
        }
      },
      "source": [
        "import sys\n",
        "sys.version"
      ],
      "execution_count": 0,
      "outputs": [
        {
          "output_type": "execute_result",
          "data": {
            "text/plain": [
              "'3.6.7 (default, Oct 22 2018, 11:32:17) \\n[GCC 8.2.0]'"
            ]
          },
          "metadata": {
            "tags": []
          },
          "execution_count": 1
        }
      ]
    },
    {
      "cell_type": "code",
      "metadata": {
        "id": "DiR67OqMlHct",
        "colab_type": "code",
        "outputId": "6e97f590-230a-470a-aed8-cc3160036bd4",
        "colab": {
          "base_uri": "https://localhost:8080/",
          "height": 101
        }
      },
      "source": [
        "!pip install -q torch==1.0.0 torchvision"
      ],
      "execution_count": 0,
      "outputs": [
        {
          "output_type": "stream",
          "text": [
            "\u001b[K    100% |████████████████████████████████| 591.8MB 27kB/s \n",
            "\u001b[K    100% |████████████████████████████████| 2.0MB 6.5MB/s \n",
            "\u001b[31mimgaug 0.2.8 has requirement numpy>=1.15.0, but you'll have numpy 1.14.6 which is incompatible.\u001b[0m\n",
            "\u001b[31mfastai 1.0.46 has requirement numpy>=1.15, but you'll have numpy 1.14.6 which is incompatible.\u001b[0m\n",
            "\u001b[31malbumentations 0.1.12 has requirement imgaug<0.2.7,>=0.2.5, but you'll have imgaug 0.2.8 which is incompatible.\u001b[0m\n",
            "\u001b[?25h"
          ],
          "name": "stdout"
        }
      ]
    },
    {
      "cell_type": "code",
      "metadata": {
        "id": "RitdEn1NlJK9",
        "colab_type": "code",
        "outputId": "1bedfdf6-8d96-4a93-d3e6-1862e8938887",
        "colab": {
          "base_uri": "https://localhost:8080/",
          "height": 34
        }
      },
      "source": [
        "# we will verify that GPU is enabled for this notebook\n",
        "# following should print: CUDA is available!  Training on GPU ...\n",
        "# \n",
        "# if it prints otherwise, then you need to enable GPU: \n",
        "# from Menu > Runtime > Change Runtime Type > Hardware Accelerator > GPU\n",
        "\n",
        "import torch\n",
        "import numpy as np\n",
        "\n",
        "# check if CUDA is available\n",
        "train_on_gpu = torch.cuda.is_available()\n",
        "\n",
        "if not train_on_gpu:\n",
        "    print('CUDA is not available.  Training on CPU ...')\n",
        "else:\n",
        "    print('CUDA is available!  Training on GPU ...')"
      ],
      "execution_count": 0,
      "outputs": [
        {
          "output_type": "stream",
          "text": [
            "CUDA is available!  Training on GPU ...\n"
          ],
          "name": "stdout"
        }
      ]
    },
    {
      "cell_type": "code",
      "metadata": {
        "id": "dcoHYcJOlSbY",
        "colab_type": "code",
        "outputId": "4fabe4ce-7fc3-41f3-9a82-9a8c4b68954b",
        "colab": {
          "base_uri": "https://localhost:8080/",
          "height": 306
        }
      },
      "source": [
        "!pip install pytorch-nlp"
      ],
      "execution_count": 0,
      "outputs": [
        {
          "output_type": "stream",
          "text": [
            "Collecting pytorch-nlp\n",
            "\u001b[?25l  Downloading https://files.pythonhosted.org/packages/81/23/8f30a4032acc239d1f4452765f80eea2c3043b9ca33deb24a79afac354c1/pytorch_nlp-0.3.7.post1-py3-none-any.whl (83kB)\n",
            "\r\u001b[K    12% |████                            | 10kB 15.9MB/s eta 0:00:01\r\u001b[K    24% |███████▉                        | 20kB 4.3MB/s eta 0:00:01\r\u001b[K    36% |███████████▊                    | 30kB 6.1MB/s eta 0:00:01\r\u001b[K    48% |███████████████▋                | 40kB 4.2MB/s eta 0:00:01\r\u001b[K    61% |███████████████████▌            | 51kB 5.0MB/s eta 0:00:01\r\u001b[K    73% |███████████████████████▌        | 61kB 5.9MB/s eta 0:00:01\r\u001b[K    85% |███████████████████████████▍    | 71kB 6.7MB/s eta 0:00:01\r\u001b[K    97% |███████████████████████████████▎| 81kB 7.4MB/s eta 0:00:01\r\u001b[K    100% |████████████████████████████████| 92kB 7.3MB/s \n",
            "\u001b[?25hRequirement already satisfied: numpy in /usr/local/lib/python3.6/dist-packages (from pytorch-nlp) (1.14.6)\n",
            "Requirement already satisfied: tqdm in /usr/local/lib/python3.6/dist-packages (from pytorch-nlp) (4.28.1)\n",
            "Requirement already satisfied: requests in /usr/local/lib/python3.6/dist-packages (from pytorch-nlp) (2.18.4)\n",
            "Requirement already satisfied: pandas in /usr/local/lib/python3.6/dist-packages (from pytorch-nlp) (0.22.0)\n",
            "Requirement already satisfied: certifi>=2017.4.17 in /usr/local/lib/python3.6/dist-packages (from requests->pytorch-nlp) (2018.11.29)\n",
            "Requirement already satisfied: urllib3<1.23,>=1.21.1 in /usr/local/lib/python3.6/dist-packages (from requests->pytorch-nlp) (1.22)\n",
            "Requirement already satisfied: idna<2.7,>=2.5 in /usr/local/lib/python3.6/dist-packages (from requests->pytorch-nlp) (2.6)\n",
            "Requirement already satisfied: chardet<3.1.0,>=3.0.2 in /usr/local/lib/python3.6/dist-packages (from requests->pytorch-nlp) (3.0.4)\n",
            "Requirement already satisfied: pytz>=2011k in /usr/local/lib/python3.6/dist-packages (from pandas->pytorch-nlp) (2018.9)\n",
            "Requirement already satisfied: python-dateutil>=2 in /usr/local/lib/python3.6/dist-packages (from pandas->pytorch-nlp) (2.5.3)\n",
            "Requirement already satisfied: six>=1.5 in /usr/local/lib/python3.6/dist-packages (from python-dateutil>=2->pandas->pytorch-nlp) (1.11.0)\n",
            "Installing collected packages: pytorch-nlp\n",
            "Successfully installed pytorch-nlp-0.3.7.post1\n"
          ],
          "name": "stdout"
        }
      ]
    },
    {
      "cell_type": "markdown",
      "metadata": {
        "id": "gCFbVkQ2lMhc",
        "colab_type": "text"
      },
      "source": [
        "# Wikipedia data for LM pretraining\n",
        "\n",
        "Our dad jokes dataset does not have that many samples so its performance is not great as-is. The major problem with having so few examples is that the model needs to learn both how to make jokes and how to compose words, and this is too much to ask of a small dataset. To learn how words are made, we are downloading a corpus based on Wikipedia to pretrain our model. We are going to use the WikiText-2 corpus that Salesforce has shared (I wanted to use WikiText-103 but CoLab doesnt give enough RAM)"
      ]
    },
    {
      "cell_type": "code",
      "metadata": {
        "id": "zaB9H1emlLgw",
        "colab_type": "code",
        "outputId": "85d56e65-df44-4b9b-82fb-d7c92e0c05e4",
        "colab": {
          "base_uri": "https://localhost:8080/",
          "height": 202
        }
      },
      "source": [
        "!wget https://s3.amazonaws.com/research.metamind.io/wikitext/wikitext-2-raw-v1.zip"
      ],
      "execution_count": 0,
      "outputs": [
        {
          "output_type": "stream",
          "text": [
            "--2019-03-04 17:43:54--  https://s3.amazonaws.com/research.metamind.io/wikitext/wikitext-2-raw-v1.zip\n",
            "Resolving s3.amazonaws.com (s3.amazonaws.com)... 52.216.101.165\n",
            "Connecting to s3.amazonaws.com (s3.amazonaws.com)|52.216.101.165|:443... connected.\n",
            "HTTP request sent, awaiting response... 200 OK\n",
            "Length: 4721645 (4.5M) [application/zip]\n",
            "Saving to: ‘wikitext-2-raw-v1.zip’\n",
            "\n",
            "wikitext-2-raw-v1.z 100%[===================>]   4.50M  6.87MB/s    in 0.7s    \n",
            "\n",
            "2019-03-04 17:43:55 (6.87 MB/s) - ‘wikitext-2-raw-v1.zip’ saved [4721645/4721645]\n",
            "\n"
          ],
          "name": "stdout"
        }
      ]
    },
    {
      "cell_type": "code",
      "metadata": {
        "id": "McYSAIQrp1C_",
        "colab_type": "code",
        "outputId": "502786ce-3aa7-456a-fb1e-a1b059cb1c78",
        "colab": {
          "base_uri": "https://localhost:8080/",
          "height": 101
        }
      },
      "source": [
        "!unzip wikitext-2-raw-v1.zip"
      ],
      "execution_count": 0,
      "outputs": [
        {
          "output_type": "stream",
          "text": [
            "Archive:  wikitext-2-raw-v1.zip\n",
            "   creating: wikitext-2-raw/\n",
            "  inflating: wikitext-2-raw/wiki.test.raw  \n",
            "  inflating: wikitext-2-raw/wiki.valid.raw  \n",
            "  inflating: wikitext-2-raw/wiki.train.raw  \n"
          ],
          "name": "stdout"
        }
      ]
    },
    {
      "cell_type": "code",
      "metadata": {
        "id": "T0on1av4ZKBx",
        "colab_type": "code",
        "outputId": "2d8e60d6-d7fb-4849-c02f-15e31dd1a439",
        "colab": {
          "base_uri": "https://localhost:8080/",
          "height": 84
        }
      },
      "source": [
        "!ls -lh wikitext-2-raw"
      ],
      "execution_count": 0,
      "outputs": [
        {
          "output_type": "stream",
          "text": [
            "total 13M\n",
            "-rw-rw---- 1 root root 1.3M Aug 15  2016 wiki.test.raw\n",
            "-rw-rw---- 1 root root  11M Aug 15  2016 wiki.train.raw\n",
            "-rw-rw---- 1 root root 1.1M Aug 15  2016 wiki.valid.raw\n"
          ],
          "name": "stdout"
        }
      ]
    },
    {
      "cell_type": "markdown",
      "metadata": {
        "id": "fCaQSw3plgOq",
        "colab_type": "text"
      },
      "source": [
        "# Define classes"
      ]
    },
    {
      "cell_type": "code",
      "metadata": {
        "id": "LEW6ttqlldIW",
        "colab_type": "code",
        "colab": {}
      },
      "source": [
        "import torch\n",
        "import pandas as pd\n",
        "import numpy as np\n",
        "import torch\n",
        "import torch.nn.functional as F\n",
        "import multiprocessing as mp\n",
        "from torch import nn\n",
        "from torch.utils.data import Dataset, DataLoader\n",
        "from torch.optim.lr_scheduler import *\n",
        "from typing import List, Tuple\n",
        "import os\n",
        "import csv\n",
        "import time"
      ],
      "execution_count": 0,
      "outputs": []
    },
    {
      "cell_type": "code",
      "metadata": {
        "id": "RFhkqiCnl8HS",
        "colab_type": "code",
        "colab": {}
      },
      "source": [
        "from torchnlp.samplers import BucketBatchSampler\n",
        "from torchnlp.datasets import snli_dataset\n",
        "from torchnlp.utils import datasets_iterator\n",
        "from torchnlp import word_to_vector"
      ],
      "execution_count": 0,
      "outputs": []
    },
    {
      "cell_type": "code",
      "metadata": {
        "id": "-PG0BYP1mJQ3",
        "colab_type": "code",
        "colab": {}
      },
      "source": [
        "import sys\n",
        "import tqdm as tq\n",
        "from tqdm import tqdm_notebook, tnrange\n",
        "\n",
        "\n",
        "def in_ipynb():\n",
        "    try:\n",
        "        cls = get_ipython().__class__.__name__\n",
        "        return cls == 'ZMQInteractiveShell'\n",
        "    except NameError:\n",
        "        return False\n",
        "\n",
        "\n",
        "def in_notebook():\n",
        "    try:\n",
        "        from ipykernel.kernelapp import IPKernelApp\n",
        "        return IPKernelApp.initialized()\n",
        "    except ImportError:\n",
        "        return False\n",
        "\n",
        "\n",
        "def clear_tqdm():\n",
        "    inst = getattr(tq.tqdm, '_instances', None)\n",
        "    if not inst: return\n",
        "    try:\n",
        "        for i in range(len(inst)): inst.pop().close()\n",
        "    except Exception:\n",
        "        pass\n",
        "\n",
        "if in_notebook():\n",
        "    def tqdm(*args, **kwargs):\n",
        "        clear_tqdm()\n",
        "        return tq.tqdm(*args, file=sys.stdout, **kwargs)\n",
        "    def trange(*args, **kwargs):\n",
        "        clear_tqdm()\n",
        "        return tq.trange(*args, file=sys.stdout, **kwargs)\n",
        "else:\n",
        "    from tqdm import tqdm, trange\n",
        "    tnrange=trange\n",
        "    tqdm_notebook=tqdm"
      ],
      "execution_count": 0,
      "outputs": []
    },
    {
      "cell_type": "code",
      "metadata": {
        "id": "XR3SE8WnmMBG",
        "colab_type": "code",
        "colab": {}
      },
      "source": [
        "from typing import List, Union\n",
        "from collections import deque\n",
        "\n",
        "class CharByteEncoder():\n",
        "  def __init__(self):\n",
        "    self.start_token = '<s>'\n",
        "    self.end_token = '</s>'\n",
        "    self.pad_token = '<pad>'\n",
        "    \n",
        "    self.start_idx = 256\n",
        "    self.end_idx = 257\n",
        "    self.pad_idx = 258\n",
        "    \n",
        "  def encode(self, s: str, pad_to=0) -> torch.LongTensor:\n",
        "    encoded = s.encode()\n",
        "    n_pad = pad_to - len(encoded) if pad_to > len(encoded) else 0\n",
        "    return torch.LongTensor([self.start_idx] + \n",
        "            [c for c in encoded] + \n",
        "            [self.end_idx] + \n",
        "            [self.pad_idx for _ in range(n_pad)]\n",
        "    )\n",
        "  \n",
        "  def decode(self, char_ids_tensor: torch.LongTensor) -> str:\n",
        "    \"\"\"\n",
        "    Decodes a list of char IDs. The structure can be like this:\n",
        "    <s>[body]</s><pad>* so we check for that.\n",
        "    \"\"\"\n",
        "    char_ids = char_ids_tensor.cpu().detach().tolist()\n",
        "    \n",
        "    out = []\n",
        "    buf = []\n",
        "    for c in char_ids:\n",
        "      if c < 256:\n",
        "        buf.append(c)\n",
        "      else:\n",
        "        if buf:\n",
        "          out.append(bytes(buf).decode())\n",
        "          buf = []\n",
        "        if c == self.start_idx:\n",
        "          out.append(self.start_token)\n",
        "        elif c == self.end_idx:\n",
        "          out.append(self.end_token)\n",
        "        elif c == self.pad_idx:\n",
        "          out.append(self.pad_token)\n",
        "      \n",
        "    if buf:  # in case some are left\n",
        "      out.append(bytes(buf).decode())\n",
        "    return ''.join(out)\n",
        "\n",
        "  def __len__(self):\n",
        "    return 259 # 256 combinations in a byte, plus 3 special chars"
      ],
      "execution_count": 0,
      "outputs": []
    },
    {
      "cell_type": "code",
      "metadata": {
        "id": "hS8XphAymONS",
        "colab_type": "code",
        "outputId": "9b0f040b-f036-4811-93a6-946b012692b0",
        "colab": {
          "base_uri": "https://localhost:8080/",
          "height": 34
        }
      },
      "source": [
        "import os\n",
        "os.getcwd()"
      ],
      "execution_count": 0,
      "outputs": [
        {
          "output_type": "execute_result",
          "data": {
            "text/plain": [
              "'/content'"
            ]
          },
          "metadata": {
            "tags": []
          },
          "execution_count": 12
        }
      ]
    },
    {
      "cell_type": "code",
      "metadata": {
        "id": "R6EfUGp8mb0z",
        "colab_type": "code",
        "colab": {}
      },
      "source": [
        "WIKIPEDIA_DATA_PATH = \"wikitext-2-raw/wiki.train.raw\""
      ],
      "execution_count": 0,
      "outputs": []
    },
    {
      "cell_type": "markdown",
      "metadata": {
        "id": "tN9Dp1czmpvq",
        "colab_type": "text"
      },
      "source": [
        "PyTorch wants us to define a Dataset class that will be used during training. We are training our language model by having multiple sequences each batch. Each sentence needs to stay together for the LSTM to learn the sequential relationship. We are therefore making each sample a sentence, with the target being the next character. So if the input is `\"<s>hello!</s>\"` then we are going to have this: `{text: '<s>hello', next: 'hello</s>'}`."
      ]
    },
    {
      "cell_type": "code",
      "metadata": {
        "id": "hH9szwQtXN6t",
        "colab_type": "code",
        "colab": {}
      },
      "source": [
        "from torch.utils.data import Dataset\n",
        "\n",
        "class WikiDataset(Dataset):\n",
        "    def __init__(self, path, char_budget=70):\n",
        "        with open(path, 'r') as fin:\n",
        "          self.data = [line.strip() for line in fin.readlines()]\n",
        "        print(f\"Dataset made of {len(self.data)} rows\")\n",
        "        self.char_budget = char_budget\n",
        "        self.text_encoder = CharByteEncoder()\n",
        "        self.samples = []\n",
        "        for _i in tqdm(range(len(self.data)), total=len(self.data)):\n",
        "            sentence = self.data.pop()\n",
        "            if sentence.startswith('='):\n",
        "              del sentence\n",
        "              continue\n",
        "            encoded_samples = self.generate_language_model_samples(sentence, \n",
        "                                                                   self.char_budget)\n",
        "            self.samples.extend(\n",
        "                (e for e in encoded_samples \n",
        "                 if len(e['text']) < 4 * self.char_budget)\n",
        "            )\n",
        "            del sentence\n",
        "        del self.data\n",
        "    \n",
        "    def get_single_sample(self, s):\n",
        "        \"\"\"\n",
        "        Input: 'my funny joke'\n",
        "        Output: {\n",
        "          text: '<s>my funny joke'\n",
        "          next: 'my funny joke</s>'\n",
        "        }\n",
        "        \"\"\"\n",
        "        encoded = self.text_encoder.encode(s)\n",
        "        return {'text': encoded[:-1], 'next': encoded[1:]}\n",
        "        \n",
        "    def generate_language_model_samples(self, sentence, char_budget_per_row):\n",
        "        \"\"\"\n",
        "        Input: \"My very funny super long string, containing lots of words\"\n",
        "        Output:\n",
        "        [\n",
        "          {\n",
        "            text: '<s>My very funny super'\n",
        "            next: 'My very funny super</s>'\n",
        "          },\n",
        "          {\n",
        "            text: '<s>long string, containing'\n",
        "            next: 'long string, containing </s>'\n",
        "          },\n",
        "          {\n",
        "            text: '<s>lots of words'\n",
        "            next: 'lots of words</s>'\n",
        "          },\n",
        "        ]\n",
        "        \"\"\"\n",
        "        \n",
        "        return [\n",
        "            self.get_single_sample(s) \n",
        "            for s in self.split_long_strings(sentence.split(), char_budget_per_row)\n",
        "        ]\n",
        "        \n",
        "    def __len__(self):\n",
        "        return len(self.samples)\n",
        "    \n",
        "    def __getitem__(self, i):\n",
        "        return self.samples[i]\n",
        "    \n",
        "    def getitem_readable(self, i):\n",
        "        return {'text': self.text_encoder.decode(self.samples[i]['text']),\n",
        "               'next': self.text_encoder.decode(self.samples[i]['next'])}\n",
        "      \n",
        "    def split_long_strings(self, words: List[str], char_budget:int):\n",
        "        \"\"\"\n",
        "        Given a list of words, take words until you go over your char_budget.\n",
        "        This allows us to set a max size in chars without breaking up words.\n",
        "        If your char_budget is 1000, you should expect to hover around that\n",
        "        limit: maybe some sequences will be of size 1020, others of size 1007...\n",
        "        \"\"\"\n",
        "        cur = []\n",
        "        taken = 0\n",
        "        for i, word in enumerate(words):\n",
        "            cur.append(word)\n",
        "            taken += len(word)\n",
        "            if taken > char_budget or i == len(words)-1:\n",
        "              yield \" \".join(cur)\n",
        "              cur = []\n",
        "              taken = 0\n",
        "\n",
        "    "
      ],
      "execution_count": 0,
      "outputs": []
    },
    {
      "cell_type": "code",
      "metadata": {
        "id": "kjPllcIEaG5A",
        "colab_type": "code",
        "outputId": "80faca7e-d932-4d2a-e67d-97bd80f3f9a9",
        "colab": {
          "base_uri": "https://localhost:8080/",
          "height": 50
        }
      },
      "source": [
        "wiki_dataset = WikiDataset(WIKIPEDIA_DATA_PATH)"
      ],
      "execution_count": 0,
      "outputs": [
        {
          "output_type": "stream",
          "text": [
            "Dataset made of 36718 rows\n",
            "100%|██████████| 36718/36718 [00:06<00:00, 5962.45it/s]\n"
          ],
          "name": "stdout"
        }
      ]
    },
    {
      "cell_type": "code",
      "metadata": {
        "id": "dZkOWzQ_meS3",
        "colab_type": "code",
        "outputId": "b90c5afd-5322-4ec0-e9a9-e091611c0ee6",
        "colab": {
          "base_uri": "https://localhost:8080/",
          "height": 34
        }
      },
      "source": [
        "len(wiki_dataset)"
      ],
      "execution_count": 0,
      "outputs": [
        {
          "output_type": "execute_result",
          "data": {
            "text/plain": [
              "127375"
            ]
          },
          "metadata": {
            "tags": []
          },
          "execution_count": 44
        }
      ]
    },
    {
      "cell_type": "code",
      "metadata": {
        "id": "rpQ2u9NJc2ia",
        "colab_type": "code",
        "outputId": "0a240d07-ef88-4f8b-d318-7787d8955029",
        "colab": {
          "base_uri": "https://localhost:8080/",
          "height": 205
        }
      },
      "source": [
        "for i in range(10):\n",
        "  print(wiki_dataset.getitem_readable(i))"
      ],
      "execution_count": 0,
      "outputs": [
        {
          "output_type": "stream",
          "text": [
            "{'text': '<s>Common starlings are trapped for food in some Mediterranean countries . The meat is tough', 'next': 'Common starlings are trapped for food in some Mediterranean countries . The meat is tough</s>'}\n",
            "{'text': '<s>and of low quality , so it is casseroled or made into pâté . One recipe said it should be stewed', 'next': 'and of low quality , so it is casseroled or made into pâté . One recipe said it should be stewed</s>'}\n",
            "{'text': '<s>\" until tender , however long that may be \" . Even when correctly prepared , it may still', 'next': '\" until tender , however long that may be \" . Even when correctly prepared , it may still</s>'}\n",
            "{'text': '<s>be seen as an acquired taste .', 'next': 'be seen as an acquired taste .</s>'}\n",
            "{'text': '<s>Mozart had a pet common starling which could sing part of his Piano Concerto in G Major', 'next': 'Mozart had a pet common starling which could sing part of his Piano Concerto in G Major</s>'}\n",
            "{'text': '<s>( KV . 453 ) . He had bought it from a shop after hearing it sing a phrase from a work he wrote', 'next': '( KV . 453 ) . He had bought it from a shop after hearing it sing a phrase from a work he wrote</s>'}\n",
            "{'text': '<s>six weeks previously , which had not yet been performed in public . He became very attached', 'next': 'six weeks previously , which had not yet been performed in public . He became very attached</s>'}\n",
            "{'text': '<s>to the bird and arranged an elaborate funeral for it when it died three years later . It', 'next': 'to the bird and arranged an elaborate funeral for it when it died three years later . It</s>'}\n",
            "{'text': '<s>has been suggested that his A Musical Joke ( K. 522 ) might be written in the comical , inconsequential', 'next': 'has been suggested that his A Musical Joke ( K. 522 ) might be written in the comical , inconsequential</s>'}\n",
            "{'text': \"<s>style of a starling 's vocalisation . Other people who have owned common starlings report\", 'next': \"style of a starling 's vocalisation . Other people who have owned common starlings report</s>\"}\n"
          ],
          "name": "stdout"
        }
      ]
    },
    {
      "cell_type": "code",
      "metadata": {
        "id": "aQYEhCFX2Nhm",
        "colab_type": "code",
        "outputId": "4351b7bf-8eec-4858-a70b-c8139a464dca",
        "colab": {
          "base_uri": "https://localhost:8080/",
          "height": 252
        }
      },
      "source": [
        "wiki_dataset.samples[18]"
      ],
      "execution_count": 0,
      "outputs": [
        {
          "output_type": "execute_result",
          "data": {
            "text/plain": [
              "{'next': tensor([119, 104, 111, 108, 101,  32, 115, 101, 110, 116, 101, 110,  99, 101,\n",
              "         115,  32, 105, 110,  32,  76,  97, 116, 105, 110,  32,  97, 110, 100,\n",
              "          32,  71, 114, 101, 101, 107,  32,  44,  32,  97, 110, 100,  32, 105,\n",
              "         110,  32,  72, 101, 110, 114, 121,  32,  73,  86,  32,  44,  32,  87,\n",
              "         105, 108, 108, 105,  97, 109,  32,  83, 104,  97, 107, 101, 115, 112,\n",
              "         101,  97, 114, 101,  32, 104,  97, 100,  32,  72, 111, 116, 115, 112,\n",
              "         117, 114, 257]),\n",
              " 'text': tensor([256, 119, 104, 111, 108, 101,  32, 115, 101, 110, 116, 101, 110,  99,\n",
              "         101, 115,  32, 105, 110,  32,  76,  97, 116, 105, 110,  32,  97, 110,\n",
              "         100,  32,  71, 114, 101, 101, 107,  32,  44,  32,  97, 110, 100,  32,\n",
              "         105, 110,  32,  72, 101, 110, 114, 121,  32,  73,  86,  32,  44,  32,\n",
              "          87, 105, 108, 108, 105,  97, 109,  32,  83, 104,  97, 107, 101, 115,\n",
              "         112, 101,  97, 114, 101,  32, 104,  97, 100,  32,  72, 111, 116, 115,\n",
              "         112, 117, 114])}"
            ]
          },
          "metadata": {
            "tags": []
          },
          "execution_count": 46
        }
      ]
    },
    {
      "cell_type": "code",
      "metadata": {
        "id": "VsVMo78isDN9",
        "colab_type": "code",
        "outputId": "6477b637-f22c-469c-a424-4dfc303a72d2",
        "colab": {
          "base_uri": "https://localhost:8080/",
          "height": 50
        }
      },
      "source": [
        "wiki_dataset.getitem_readable(1000)"
      ],
      "execution_count": 0,
      "outputs": [
        {
          "output_type": "execute_result",
          "data": {
            "text/plain": [
              "{'next': '. The success of the Petits Concerts led to them becoming an annual event ( with occasional</s>',\n",
              " 'text': '<s>. The success of the Petits Concerts led to them becoming an annual event ( with occasional'}"
            ]
          },
          "metadata": {
            "tags": []
          },
          "execution_count": 47
        }
      ]
    },
    {
      "cell_type": "markdown",
      "metadata": {
        "id": "RFbqH9WAqEjH",
        "colab_type": "text"
      },
      "source": [
        "Checking that the max size of a sequence is not too bad to make sure padding and memory are taken care of"
      ]
    },
    {
      "cell_type": "code",
      "metadata": {
        "id": "unhQWiZCpYdg",
        "colab_type": "code",
        "outputId": "e07cd3a2-aedc-4af3-d5fb-dc40827e86ce",
        "colab": {
          "base_uri": "https://localhost:8080/",
          "height": 935
        }
      },
      "source": [
        "import matplotlib.pyplot as plt\n",
        "\n",
        "lengths = [len(p['text']) for p in wiki_dataset]\n",
        "print(max(lengths))\n",
        "plt.hist(lengths, bins=100)"
      ],
      "execution_count": 0,
      "outputs": [
        {
          "output_type": "stream",
          "text": [
            "141\n"
          ],
          "name": "stdout"
        },
        {
          "output_type": "execute_result",
          "data": {
            "text/plain": [
              "(array([1.2400e+03, 1.5300e+02, 9.8000e+01, 1.6500e+02, 1.5100e+02,\n",
              "        4.3700e+02, 2.2900e+02, 4.2100e+02, 1.7400e+02, 1.9000e+02,\n",
              "        3.8400e+02, 2.1700e+02, 4.0700e+02, 1.9800e+02, 1.7800e+02,\n",
              "        4.1800e+02, 1.9900e+02, 4.2500e+02, 2.1900e+02, 2.1900e+02,\n",
              "        3.9400e+02, 1.9700e+02, 2.1200e+02, 4.4800e+02, 2.0200e+02,\n",
              "        4.1500e+02, 2.0700e+02, 2.0700e+02, 4.2600e+02, 1.8100e+02,\n",
              "        4.1700e+02, 2.1800e+02, 2.1700e+02, 4.3100e+02, 1.9600e+02,\n",
              "        3.7200e+02, 2.0600e+02, 1.9700e+02, 3.4900e+02, 1.8800e+02,\n",
              "        2.0300e+02, 4.0200e+02, 1.8500e+02, 3.7200e+02, 2.0100e+02,\n",
              "        1.9400e+02, 3.3100e+02, 2.0000e+02, 3.6600e+02, 1.8300e+02,\n",
              "        1.8400e+02, 3.7800e+02, 1.7500e+02, 3.4000e+02, 1.7000e+02,\n",
              "        1.8300e+02, 4.2400e+02, 4.2500e+02, 3.1240e+03, 4.1750e+03,\n",
              "        6.7510e+03, 2.0823e+04, 1.2293e+04, 1.2299e+04, 2.0880e+04,\n",
              "        8.1130e+03, 1.1166e+04, 3.5090e+03, 2.5140e+03, 2.8420e+03,\n",
              "        6.9800e+02, 8.2500e+02, 1.8600e+02, 1.2600e+02, 1.3800e+02,\n",
              "        3.7000e+01, 5.2000e+01, 1.9000e+01, 1.2000e+01, 2.0000e+01,\n",
              "        1.0000e+01, 6.0000e+00, 1.5000e+01, 2.0000e+00, 5.0000e+00,\n",
              "        2.0000e+00, 1.0000e+00, 2.0000e+00, 2.0000e+00, 3.0000e+00,\n",
              "        1.0000e+00, 2.0000e+00, 1.0000e+00, 0.0000e+00, 1.0000e+00,\n",
              "        1.0000e+00, 0.0000e+00, 0.0000e+00, 0.0000e+00, 1.0000e+00]),\n",
              " array([  2.  ,   3.39,   4.78,   6.17,   7.56,   8.95,  10.34,  11.73,\n",
              "         13.12,  14.51,  15.9 ,  17.29,  18.68,  20.07,  21.46,  22.85,\n",
              "         24.24,  25.63,  27.02,  28.41,  29.8 ,  31.19,  32.58,  33.97,\n",
              "         35.36,  36.75,  38.14,  39.53,  40.92,  42.31,  43.7 ,  45.09,\n",
              "         46.48,  47.87,  49.26,  50.65,  52.04,  53.43,  54.82,  56.21,\n",
              "         57.6 ,  58.99,  60.38,  61.77,  63.16,  64.55,  65.94,  67.33,\n",
              "         68.72,  70.11,  71.5 ,  72.89,  74.28,  75.67,  77.06,  78.45,\n",
              "         79.84,  81.23,  82.62,  84.01,  85.4 ,  86.79,  88.18,  89.57,\n",
              "         90.96,  92.35,  93.74,  95.13,  96.52,  97.91,  99.3 , 100.69,\n",
              "        102.08, 103.47, 104.86, 106.25, 107.64, 109.03, 110.42, 111.81,\n",
              "        113.2 , 114.59, 115.98, 117.37, 118.76, 120.15, 121.54, 122.93,\n",
              "        124.32, 125.71, 127.1 , 128.49, 129.88, 131.27, 132.66, 134.05,\n",
              "        135.44, 136.83, 138.22, 139.61, 141.  ]),\n",
              " <a list of 100 Patch objects>)"
            ]
          },
          "metadata": {
            "tags": []
          },
          "execution_count": 48
        },
        {
          "output_type": "display_data",
          "data": {
            "image/png": "[encoded data removed]",
            "text/plain": [
              "<Figure size 576x396 with 1 Axes>"
            ]
          },
          "metadata": {
            "tags": []
          }
        }
      ]
    },
    {
      "cell_type": "markdown",
      "metadata": {
        "id": "Ntr6ZDZdqbr7",
        "colab_type": "text"
      },
      "source": [
        "Our model is going to be made by multiple LSTM layers stacked on top of each other.\n"
      ]
    },
    {
      "cell_type": "code",
      "metadata": {
        "id": "ipTMZEH8pm5C",
        "colab_type": "code",
        "colab": {}
      },
      "source": [
        "from torch.nn.utils.rnn import pack_padded_sequence, pad_packed_sequence\n",
        "\n",
        "class CharLstmLanguageModel(nn.Module):\n",
        "    def __init__(self, char_embedding_dim, lstm_dim, projection_size, n_lstm_layers=1, dropout=0):\n",
        "        super().__init__()\n",
        "        self.n_lstm_layers = n_lstm_layers\n",
        "        self.n_chars = 259\n",
        "        self.char_embedding_dim = char_embedding_dim\n",
        "        self.projection_size = projection_size\n",
        "        \n",
        "        # initialize lookup table of fixed dictionary and size, 0 = padding idx\n",
        "        self.char_embedder = nn.Embedding(self.n_chars, \n",
        "                                          self.char_embedding_dim, \n",
        "                                          padding_idx=258\n",
        "        )\n",
        "        \n",
        "        # lstm_dim = size of one lstm hidden layer\n",
        "        # n_lstm_layers = number of stacked lstms\n",
        "        \n",
        "        self.lstm = nn.LSTM(char_embedding_dim, \n",
        "                            lstm_dim, \n",
        "                            n_lstm_layers, \n",
        "                            batch_first=True, \n",
        "                            dropout=dropout, \n",
        "                            bidirectional=False,  # We want to use this for generation so we won't have all the seq together\n",
        "        )\n",
        "        \n",
        "        # creates a pipeline to transform the output of the lstm into a list where each position is a char idx\n",
        "        # and its values can be projected by ReLU to be the confidence for each character\n",
        "        self.projection = nn.Sequential(*[\n",
        "            nn.Linear(lstm_dim, self.projection_size),\n",
        "            nn.ReLU(),\n",
        "            nn.Dropout(dropout),\n",
        "            nn.Linear(self.projection_size, self.n_chars),\n",
        "        ])\n",
        "        \n",
        "    def forward(self, char_ids, hidden=None, pack=True):\n",
        "        # char_ids of shape [b_sz, max_sq_len (w/ pads)]\n",
        "        x = self.char_embedder(char_ids)  # -> shape [b_sz, max_sq_len, char_emb_sz]\n",
        "        \n",
        "        x, hidden = self.lstm(x, hidden)  # -> shape [b_sz, max_sq_len, lstm_dim]\n",
        "\n",
        "        return self.projection(x), hidden  # -> projection's shape: [b_sz, max_sq_len, total_num_characters]\n",
        "                                           # -> (seq_len, batch, num_directions * hidden_size)\n",
        "                                           # hidden is a tuple (hidden_state, cell_state). Both are of shape (n_lstm_layers, b_sz, lstm_dim) \n",
        "        "
      ],
      "execution_count": 0,
      "outputs": []
    },
    {
      "cell_type": "code",
      "metadata": {
        "id": "-KQTIt8VrIig",
        "colab_type": "code",
        "colab": {}
      },
      "source": [
        "from torch.nn.utils.rnn import pad_sequence, pack_sequence\n",
        "\n",
        "def padded_collate(batch, padding_idx=258):\n",
        "    x = pad_sequence([elem['text'] for elem in batch], batch_first=True, padding_value=padding_idx)\n",
        "    y = pad_sequence([elem['next'] for elem in batch], batch_first=True, padding_value=padding_idx)\n",
        "    \n",
        "    return {'text': x, 'next': y}"
      ],
      "execution_count": 0,
      "outputs": []
    },
    {
      "cell_type": "code",
      "metadata": {
        "id": "F36DAdn3rMFf",
        "colab_type": "code",
        "colab": {}
      },
      "source": [
        "model = CharLstmLanguageModel(16,  # char_embedding_dim \n",
        "                              1024,  # lstm_hidden_dim\n",
        "                              512,\n",
        "                              n_lstm_layers=2,\n",
        "                              dropout=0.3,\n",
        "                             )"
      ],
      "execution_count": 0,
      "outputs": []
    },
    {
      "cell_type": "markdown",
      "metadata": {
        "id": "MB0qNwk60R4Z",
        "colab_type": "text"
      },
      "source": [
        "In case you want to load an already trained model and fine tuning it"
      ]
    },
    {
      "cell_type": "code",
      "metadata": {
        "id": "D4pgI3sitd6b",
        "colab_type": "code",
        "outputId": "d09231fb-2b76-435a-f523-df037d97c628",
        "colab": {
          "base_uri": "https://localhost:8080/",
          "height": 185
        }
      },
      "source": [
        "model"
      ],
      "execution_count": 0,
      "outputs": [
        {
          "output_type": "execute_result",
          "data": {
            "text/plain": [
              "CharLstmLanguageModel(\n",
              "  (char_embedder): Embedding(259, 16, padding_idx=258)\n",
              "  (lstm): LSTM(16, 1024, num_layers=2, batch_first=True, dropout=0.3)\n",
              "  (projection): Sequential(\n",
              "    (0): Linear(in_features=1024, out_features=512, bias=True)\n",
              "    (1): ReLU()\n",
              "    (2): Dropout(p=0.3)\n",
              "    (3): Linear(in_features=512, out_features=259, bias=True)\n",
              "  )\n",
              ")"
            ]
          },
          "metadata": {
            "tags": []
          },
          "execution_count": 51
        }
      ]
    },
    {
      "cell_type": "code",
      "metadata": {
        "id": "y60F9vc9rQZD",
        "colab_type": "code",
        "outputId": "9d37b641-c84e-47ca-8e30-f26d296911a3",
        "colab": {
          "base_uri": "https://localhost:8080/",
          "height": 34
        }
      },
      "source": [
        "device = torch.device(\"cuda:0\" if torch.cuda.is_available() else \"cpu\")\n",
        "device"
      ],
      "execution_count": 0,
      "outputs": [
        {
          "output_type": "execute_result",
          "data": {
            "text/plain": [
              "device(type='cuda', index=0)"
            ]
          },
          "metadata": {
            "tags": []
          },
          "execution_count": 52
        }
      ]
    },
    {
      "cell_type": "markdown",
      "metadata": {
        "id": "Q4oPejyQrV2a",
        "colab_type": "text"
      },
      "source": [
        "Let's define a train function."
      ]
    },
    {
      "cell_type": "code",
      "metadata": {
        "id": "yo_5LN8YrSxU",
        "colab_type": "code",
        "colab": {}
      },
      "source": [
        "def train(model, dataset, n_epochs, lr=0.01, batch_size=32, model_checkpoint_folder=None):\n",
        "    device = torch.device(\"cuda:0\" if torch.cuda.is_available() else \"cpu\")\n",
        "    criterion = nn.CrossEntropyLoss(ignore_index=0, reduction='elementwise_mean')\n",
        "    \n",
        "    train_sampler = BucketBatchSampler(dataset, batch_size, True, sort_key=lambda r: len(r['text']))\n",
        "    data_loader = DataLoader(dataset, batch_sampler=train_sampler, collate_fn=padded_collate, num_workers=mp.cpu_count())\n",
        "    optimizer = torch.optim.Adam(model.parameters(), lr=lr)\n",
        "    \n",
        "    plateau_scheduler = ReduceLROnPlateau(optimizer, 'min', patience=2, verbose=True)\n",
        "    \n",
        "    model = model.to(device).train()\n",
        "    \n",
        "    avg_loss = 0.0\n",
        "    avg_mom=0.98\n",
        "    losses = []\n",
        "    for epoch in range(1, n_epochs+1):\n",
        "        t = tqdm(iter(data_loader), leave=False, total=len(data_loader), miniters=0)\n",
        "        epoch_losses = []\n",
        "        for i, batch in enumerate(t):\n",
        "            optimizer.zero_grad()\n",
        "\n",
        "            label = batch['next'].to(device)\n",
        "            pred, _ = model(batch['text'].to(device))\n",
        "            \n",
        "            batch_sz, seq_len, n_chars = pred.shape\n",
        "            \n",
        "            loss = criterion(pred.view(batch_sz * seq_len, -1), label.view(batch_sz * seq_len))\n",
        "            \n",
        "            loss_numeric = float(loss)\n",
        "            epoch_losses.append(loss_numeric)\n",
        "            avg_loss = avg_loss * avg_mom + loss_numeric * (1-avg_mom)\n",
        "            debias_loss = avg_loss / (1 - avg_mom**(i+1))\n",
        "            \n",
        "            lrs = \",\".join([str(param_group['lr']) for param_group in optimizer.param_groups])\n",
        "            t.set_postfix(loss=debias_loss, \n",
        "                          learning_rate=lrs,\n",
        "                          epoch=epoch,\n",
        "                         )\n",
        "\n",
        "            loss.backward()\n",
        "            # update weights using optimizer formula\n",
        "            optimizer.step()\n",
        "        \n",
        "        epoch_loss = sum(epoch_losses) / len(data_loader)\n",
        "        print(f\"\\nEpoch {epoch} loss: {epoch_loss}\")\n",
        "        losses.append(epoch_loss)\n",
        "        plateau_scheduler.step(epoch_loss)\n",
        "        epoch_losses = []\n",
        "        # save model\n",
        "        if model_checkpoint_folder:\n",
        "            model_save_path = model_checkpoint_folder + \"model_epoch_{}.pt\".format(epoch)\n",
        "            torch.save(model, model_save_path)\n",
        "    return losses\n",
        "    \n",
        "        "
      ],
      "execution_count": 0,
      "outputs": []
    },
    {
      "cell_type": "code",
      "metadata": {
        "id": "ArHzjGgvrZ_v",
        "colab_type": "code",
        "colab": {}
      },
      "source": [
        "MODEL_CHECKPOINT_FOLDER = \"checkpoints/\"\n",
        "if not os.path.isdir(MODEL_CHECKPOINT_FOLDER):\n",
        "  os.makedirs(MODEL_CHECKPOINT_FOLDER)"
      ],
      "execution_count": 0,
      "outputs": []
    },
    {
      "cell_type": "code",
      "metadata": {
        "id": "hcW4tHg-rcH3",
        "colab_type": "code",
        "colab": {}
      },
      "source": [
        "model"
      ],
      "execution_count": 0,
      "outputs": []
    },
    {
      "cell_type": "code",
      "metadata": {
        "id": "Jlwk9AGwreHB",
        "colab_type": "code",
        "colab": {}
      },
      "source": [
        "!nvidia-smi"
      ],
      "execution_count": 0,
      "outputs": []
    },
    {
      "cell_type": "code",
      "metadata": {
        "id": "PrMF4TfLpElg",
        "colab_type": "code",
        "outputId": "ee80b4ac-8c8f-4157-991a-a084855c567a",
        "colab": {
          "base_uri": "https://localhost:8080/",
          "height": 440
        }
      },
      "source": [
        "losses = train(model, \n",
        "               wiki_dataset, \n",
        "               10, \n",
        "               lr=0.003, \n",
        "               batch_size=128, \n",
        "               model_checkpoint_folder=MODEL_CHECKPOINT_FOLDER\n",
        "              )"
      ],
      "execution_count": 0,
      "outputs": [
        {
          "output_type": "stream",
          "text": [
            "\r  0%|          | 0/995 [00:00<?, ?it/s]"
          ],
          "name": "stdout"
        },
        {
          "output_type": "stream",
          "text": [
            "/usr/local/lib/python3.6/dist-packages/torch/nn/_reduction.py:16: UserWarning: reduction='elementwise_mean' is deprecated, please use reduction='mean' instead.\n",
            "  warnings.warn(\"reduction='elementwise_mean' is deprecated, please use reduction='mean' instead.\")\n"
          ],
          "name": "stderr"
        },
        {
          "output_type": "stream",
          "text": [
            "                                                                                         \n",
            "Epoch 1 loss: 1.401535777051245\n"
          ],
          "name": "stdout"
        },
        {
          "output_type": "stream",
          "text": [
            "/usr/local/lib/python3.6/dist-packages/torch/serialization.py:250: UserWarning: Couldn't retrieve source code for container of type CharLstmLanguageModel. It won't be checked for correctness upon loading.\n",
            "  \"type \" + obj.__name__ + \". It won't be checked \"\n"
          ],
          "name": "stderr"
        },
        {
          "output_type": "stream",
          "text": [
            "                                                                                         \n",
            "Epoch 2 loss: 1.3980323322454289\n",
            "                                                                                          \n",
            "Epoch 3 loss: 1.3928589433281866\n",
            "                                                                                          \n",
            "Epoch 4 loss: 1.387839260352916\n",
            "                                                                                          \n",
            "Epoch 5 loss: 1.3836720950040386\n",
            "                                                                                          \n",
            "Epoch 6 loss: 1.3807512765553729\n",
            "                                                                                          \n",
            "Epoch 7 loss: 1.3764163515076566\n",
            "                                                                                          \n",
            "Epoch 8 loss: 1.3733537849469402\n",
            "                                                                                          \n",
            "Epoch 9 loss: 1.370907208428311\n",
            "                                                                                           \n",
            "Epoch 10 loss: 1.3657020920485108\n"
          ],
          "name": "stdout"
        }
      ]
    },
    {
      "cell_type": "code",
      "metadata": {
        "id": "f1JLkABuxtKn",
        "colab_type": "code",
        "outputId": "68b37177-1b0a-44fc-b2e3-9a8562c70939",
        "colab": {
          "base_uri": "https://localhost:8080/",
          "height": 70
        }
      },
      "source": [
        "from google.colab import files\n",
        "model_save_path = MODEL_CHECKPOINT_FOLDER + \"wiki_model_30epochs_checkpoint.pt\"\n",
        "torch.save(model, model_save_path)\n",
        "files.download(model_save_path)"
      ],
      "execution_count": 0,
      "outputs": [
        {
          "output_type": "stream",
          "text": [
            "/usr/local/lib/python3.6/dist-packages/torch/serialization.py:250: UserWarning: Couldn't retrieve source code for container of type CharLstmLanguageModel. It won't be checked for correctness upon loading.\n",
            "  \"type \" + obj.__name__ + \". It won't be checked \"\n"
          ],
          "name": "stderr"
        }
      ]
    },
    {
      "cell_type": "code",
      "metadata": {
        "id": "DEVz8BGTxz-S",
        "colab_type": "code",
        "outputId": "2516e16a-bf7c-4b53-a160-61e3a83bec1a",
        "colab": {
          "base_uri": "https://localhost:8080/",
          "height": 54
        }
      },
      "source": [
        "print(losses)"
      ],
      "execution_count": 0,
      "outputs": [
        {
          "output_type": "stream",
          "text": [
            "[1.401535777051245, 1.3980323322454289, 1.3928589433281866, 1.387839260352916, 1.3836720950040386, 1.3807512765553729, 1.3764163515076566, 1.3733537849469402, 1.370907208428311, 1.3657020920485108]\n"
          ],
          "name": "stdout"
        }
      ]
    },
    {
      "cell_type": "code",
      "metadata": {
        "id": "L_osAq0m0ep7",
        "colab_type": "code",
        "colab": {}
      },
      "source": [
        "losses = [2.587973585919519, 1.8878660248751615, 1.7248724930250465, 1.647950033326844, 1.6195444668357695, 1.553175619439264, 1.5359190926479933, 1.5239209031938907, 1.5110083296670387, 1.4999794643128936, 1.4919527612139831, 1.4708082113433723, 1.4594857539962884, 1.4469362130117176, 1.4397834873678697, 1.4322743370005833, 1.423765480458437, 1.4182304330806637, 1.4115374595675636, 1.406341798041933, 1.401535777051245, 1.401535777051245, 1.3980323322454289, 1.3928589433281866, 1.387839260352916 , 1.3836720950040386 , 1.3807512765553729 , 1.3764163515076566 , 1.3733537849469402 , 1.370907208428311, 1.3657020920485108]"
      ],
      "execution_count": 0,
      "outputs": []
    },
    {
      "cell_type": "code",
      "metadata": {
        "id": "J0MxiDGs0hgj",
        "colab_type": "code",
        "outputId": "17ae2e40-2d22-4d41-c7e0-a05f4ede8f96",
        "colab": {
          "base_uri": "https://localhost:8080/",
          "height": 364
        }
      },
      "source": [
        "plt.plot(losses)"
      ],
      "execution_count": 0,
      "outputs": [
        {
          "output_type": "execute_result",
          "data": {
            "text/plain": [
              "[<matplotlib.lines.Line2D at 0x7f71c42c48d0>]"
            ]
          },
          "metadata": {
            "tags": []
          },
          "execution_count": 55
        },
        {
          "output_type": "display_data",
          "data": {
            "image/png": "[encoded data removed]",
            "text/plain": [
              "<Figure size 576x396 with 1 Axes>"
            ]
          },
          "metadata": {
            "tags": []
          }
        }
      ]
    },
    {
      "cell_type": "markdown",
      "metadata": {
        "id": "ygmJS3t-5EL4",
        "colab_type": "text"
      },
      "source": [
        ""
      ]
    },
    {
      "cell_type": "markdown",
      "metadata": {
        "id": "IC7AqNwMx3jo",
        "colab_type": "text"
      },
      "source": [
        "# Sampling from the model\n",
        "\n",
        "\n",
        "The model may not have learned how to form valid utf-8 sequences (eg for emojis) so we offer an optional argument that sets all non-ASCII bytes to 0 probability."
      ]
    },
    {
      "cell_type": "code",
      "metadata": {
        "id": "a8VmnEBQg9Yj",
        "colab_type": "code",
        "colab": {}
      },
      "source": [
        "def sample(model, start_token='', max_iters=100, temperature=1.0, no_unicode=False):\n",
        "  model = model.to('cpu')\n",
        "  enc = CharByteEncoder()\n",
        "  input_seq = enc.encode(start_token).tolist()[:-1] # Drop the end token\n",
        "  \n",
        "  hidden_prev = None\n",
        " \n",
        "  for t in range(max_iters):\n",
        "    x_t = torch.LongTensor([input_seq[t]]).unsqueeze(0)  # (b_sz=1, seq_len=1)\n",
        "    y_t, hidden_t = model(x_t, hidden_prev)\n",
        "    probs_t = F.softmax(y_t.squeeze() / temperature, dim=0)\n",
        "    \n",
        "    if no_unicode:\n",
        "      mask = torch.cat([torch.ones(128), torch.zeros(128), torch.ones(3)])\n",
        "      probs_t = probs_t * mask\n",
        "\n",
        "    x_next = torch.multinomial(probs_t, 1)  # Randomly picks, based on probabilities\n",
        "\n",
        "    input_seq.append(int(x_next))\n",
        "    if int(x_next) == enc.end_idx:\n",
        "      return enc.decode(torch.LongTensor(input_seq))\n",
        "    hidden_prev = hidden_t\n",
        "    \n",
        "  return enc.decode(torch.LongTensor(input_seq + [enc.end_idx]))\n",
        "  "
      ],
      "execution_count": 0,
      "outputs": []
    },
    {
      "cell_type": "code",
      "metadata": {
        "id": "s_6CA3DdhHFc",
        "colab_type": "code",
        "outputId": "60c20f66-465b-4d6c-88aa-114da5093d65",
        "colab": {
          "base_uri": "https://localhost:8080/",
          "height": 34
        }
      },
      "source": [
        "sample(model, no_unicode=False)"
      ],
      "execution_count": 0,
      "outputs": [
        {
          "output_type": "execute_result",
          "data": {
            "text/plain": [
              "'<s>smaller claim in the gun .</s>'"
            ]
          },
          "metadata": {
            "tags": []
          },
          "execution_count": 92
        }
      ]
    },
    {
      "cell_type": "markdown",
      "metadata": {
        "id": "IMTkmQfq6l3c",
        "colab_type": "text"
      },
      "source": [
        "# Retraining on DadJokes"
      ]
    },
    {
      "cell_type": "markdown",
      "metadata": {
        "id": "wTBUlvRW7WZ0",
        "colab_type": "text"
      },
      "source": [
        "Let's see if pretraining on Wikipedia helped."
      ]
    },
    {
      "cell_type": "code",
      "metadata": {
        "id": "isla9F2EM0Lv",
        "colab_type": "code",
        "colab": {}
      },
      "source": [
        "DADJOKES_DATASET_PATH = \"shortjokes.csv\"\n",
        "DADJOKES_DATASET_FILE_ID = \"1bplfuUrJEnpi6r78LQtO3IufzCSSVJaC\"\n",
        "DADJOKES_DATASET_URL = \"https://github.com/amoudgl/short-jokes-dataset/raw/master/shortjokes.csv\""
      ],
      "execution_count": 0,
      "outputs": []
    },
    {
      "cell_type": "code",
      "metadata": {
        "id": "CX0HvW3m6kVF",
        "colab_type": "code",
        "outputId": "5f6d3e0e-819d-4662-aece-21d215c81d5e",
        "colab": {
          "base_uri": "https://localhost:8080/",
          "height": 34
        }
      },
      "source": [
        "import urllib.request\n",
        "...\n",
        "# Download the file from `url` and save it locally under `file_name`:\n",
        "urllib.request.urlretrieve(DADJOKES_DATASET_URL, DADJOKES_DATASET_PATH)"
      ],
      "execution_count": 0,
      "outputs": [
        {
          "output_type": "execute_result",
          "data": {
            "text/plain": [
              "('shortjokes.csv', <http.client.HTTPMessage at 0x7f71e0296cf8>)"
            ]
          },
          "metadata": {
            "tags": []
          },
          "execution_count": 16
        }
      ]
    },
    {
      "cell_type": "code",
      "metadata": {
        "id": "LHkVaNqw6kfQ",
        "colab_type": "code",
        "colab": {}
      },
      "source": [
        "from torch.utils.data import Dataset\n",
        "\n",
        "class DadJokesDataset(Dataset):\n",
        "    def __init__(self, path):\n",
        "        self.data = pd.read_csv(path, sep=',')['Joke'].tolist()\n",
        "        self.text_encoder = CharByteEncoder()\n",
        "        self.samples = []\n",
        "        for _ in range(len(self.data)):\n",
        "            joke = self.data.pop()\n",
        "            encoded_joke = self.text_encoder.encode(joke)\n",
        "            encoded_sample = self.generate_language_model_samples(encoded_joke)\n",
        "            self.samples.append(encoded_sample)\n",
        "        del self.data        \n",
        "        \n",
        "    def generate_language_model_samples(self, joke):\n",
        "        \"\"\"\n",
        "        Input: '<s>my funny joke</s>'\n",
        "        Output: {\n",
        "          text: '<s>my funny joke'\n",
        "          next: 'my funny joke</s>'\n",
        "        }\n",
        "        \"\"\"\n",
        "        res = {}\n",
        "        res['text'] = joke[:-1]\n",
        "        res['next'] = joke[1:]\n",
        "        return res\n",
        "        \n",
        "    def __len__(self):\n",
        "        return len(self.samples)\n",
        "    \n",
        "    def __getitem__(self, i):\n",
        "        return self.samples[i]\n",
        "    \n",
        "    def getitem_readable(self, i):\n",
        "        return {'text': self.text_encoder.decode(self.samples[i]['text']),\n",
        "               'next': self.text_encoder.decode(self.samples[i]['next'])}\n",
        "    "
      ],
      "execution_count": 0,
      "outputs": []
    },
    {
      "cell_type": "code",
      "metadata": {
        "id": "m50zCl-R6kij",
        "colab_type": "code",
        "colab": {}
      },
      "source": [
        "jokes_dataset = DadJokesDataset(DADJOKES_DATASET_PATH)"
      ],
      "execution_count": 0,
      "outputs": []
    },
    {
      "cell_type": "markdown",
      "metadata": {
        "id": "-fdX65Vk69uY",
        "colab_type": "text"
      },
      "source": [
        "Checking that the max size of a sequence is not too bad to make sure padding and memory are taken care of"
      ]
    },
    {
      "cell_type": "code",
      "metadata": {
        "id": "gdGTgIMw6kly",
        "colab_type": "code",
        "outputId": "49991392-4ee2-4ddf-918c-633241d3ad0c",
        "colab": {
          "base_uri": "https://localhost:8080/",
          "height": 784
        }
      },
      "source": [
        "import matplotlib.pyplot as plt\n",
        "\n",
        "lengths = [len(p['text']) for p in jokes_dataset]\n",
        "print(max(lengths))\n",
        "plt.hist(lengths, bins=100)"
      ],
      "execution_count": 0,
      "outputs": [
        {
          "output_type": "stream",
          "text": [
            "201\n"
          ],
          "name": "stdout"
        },
        {
          "output_type": "execute_result",
          "data": {
            "text/plain": [
              "(array([  65.,   76.,  125.,  109.,  113.,  142.,  211.,  272.,  327.,\n",
              "         205.,  502.,  656.,  825., 1032., 1272., 1597., 2009., 2478.,\n",
              "        2880., 1597., 3411., 3790., 4162., 4623., 4715., 4784., 5104.,\n",
              "        5312., 5349., 2627., 5341., 5466., 5458., 5416., 5303., 5320.,\n",
              "        5157., 5186., 5027., 2452., 4730., 4599., 4662., 4359., 4202.,\n",
              "        4099., 3972., 3823., 3781., 1800., 3568., 3481., 3337., 3260.,\n",
              "        3163., 3011., 2966., 2911., 2899., 1452., 2742., 2696., 2784.,\n",
              "        2789., 2938., 3697., 4748., 6453., 5351.,  567.,  961.,  932.,\n",
              "         845.,  837.,  778.,  763.,  721.,  664.,  643.,  275.,  600.,\n",
              "         592.,  578.,  522.,  496.,  508.,  523.,  511.,  492.,  225.,\n",
              "         445.,  398.,  412.,  401.,  389.,  401.,  368.,  370.,  346.,\n",
              "         325.]),\n",
              " array([ 11. ,  12.9,  14.8,  16.7,  18.6,  20.5,  22.4,  24.3,  26.2,\n",
              "         28.1,  30. ,  31.9,  33.8,  35.7,  37.6,  39.5,  41.4,  43.3,\n",
              "         45.2,  47.1,  49. ,  50.9,  52.8,  54.7,  56.6,  58.5,  60.4,\n",
              "         62.3,  64.2,  66.1,  68. ,  69.9,  71.8,  73.7,  75.6,  77.5,\n",
              "         79.4,  81.3,  83.2,  85.1,  87. ,  88.9,  90.8,  92.7,  94.6,\n",
              "         96.5,  98.4, 100.3, 102.2, 104.1, 106. , 107.9, 109.8, 111.7,\n",
              "        113.6, 115.5, 117.4, 119.3, 121.2, 123.1, 125. , 126.9, 128.8,\n",
              "        130.7, 132.6, 134.5, 136.4, 138.3, 140.2, 142.1, 144. , 145.9,\n",
              "        147.8, 149.7, 151.6, 153.5, 155.4, 157.3, 159.2, 161.1, 163. ,\n",
              "        164.9, 166.8, 168.7, 170.6, 172.5, 174.4, 176.3, 178.2, 180.1,\n",
              "        182. , 183.9, 185.8, 187.7, 189.6, 191.5, 193.4, 195.3, 197.2,\n",
              "        199.1, 201. ]),\n",
              " <a list of 100 Patch objects>)"
            ]
          },
          "metadata": {
            "tags": []
          },
          "execution_count": 19
        },
        {
          "output_type": "display_data",
          "data": {
            "image/png": "[encoded data removed]",
            "text/plain": [
              "<Figure size 576x396 with 1 Axes>"
            ]
          },
          "metadata": {
            "tags": []
          }
        }
      ]
    },
    {
      "cell_type": "code",
      "metadata": {
        "id": "zql6mMnEGU5T",
        "colab_type": "code",
        "colab": {}
      },
      "source": [
        "torch.cuda.empty_cache()"
      ],
      "execution_count": 0,
      "outputs": []
    },
    {
      "cell_type": "code",
      "metadata": {
        "id": "xIikVSTHGU2e",
        "colab_type": "code",
        "outputId": "54168d73-23ce-4177-af53-3cd638198795",
        "colab": {
          "base_uri": "https://localhost:8080/",
          "height": 302
        }
      },
      "source": [
        "!nvidia-smi"
      ],
      "execution_count": 0,
      "outputs": [
        {
          "output_type": "stream",
          "text": [
            "Mon Mar  4 17:45:08 2019       \n",
            "+-----------------------------------------------------------------------------+\n",
            "| NVIDIA-SMI 410.79       Driver Version: 410.79       CUDA Version: 10.0     |\n",
            "|-------------------------------+----------------------+----------------------+\n",
            "| GPU  Name        Persistence-M| Bus-Id        Disp.A | Volatile Uncorr. ECC |\n",
            "| Fan  Temp  Perf  Pwr:Usage/Cap|         Memory-Usage | GPU-Util  Compute M. |\n",
            "|===============================+======================+======================|\n",
            "|   0  Tesla K80           Off  | 00000000:00:04.0 Off |                    0 |\n",
            "| N/A   29C    P8    24W / 149W |     11MiB / 11441MiB |      0%      Default |\n",
            "+-------------------------------+----------------------+----------------------+\n",
            "                                                                               \n",
            "+-----------------------------------------------------------------------------+\n",
            "| Processes:                                                       GPU Memory |\n",
            "|  GPU       PID   Type   Process name                             Usage      |\n",
            "|=============================================================================|\n",
            "|  No running processes found                                                 |\n",
            "+-----------------------------------------------------------------------------+\n"
          ],
          "name": "stdout"
        }
      ]
    },
    {
      "cell_type": "code",
      "metadata": {
        "id": "HMoLs5BkvbxI",
        "colab_type": "code",
        "outputId": "e67250b9-1aaa-4444-ff9e-dce77e6c765d",
        "colab": {
          "resources": {
            "http://localhost:8080/nbextensions/google.colab/files.js": {
              "data": "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",
              "ok": true,
              "headers": [
                [
                  "content-type",
                  "application/javascript"
                ]
              ],
              "status": 200,
              "status_text": ""
            }
          },
          "base_uri": "https://localhost:8080/",
          "height": 87
        }
      },
      "source": [
        "from google.colab import files\n",
        "\n",
        "uploaded = files.upload()\n",
        "\n",
        "for fn in uploaded.keys():\n",
        "  print('User uploaded file \"{name}\" with length {length} bytes'.format(\n",
        "      name=fn, length=len(uploaded[fn])))"
      ],
      "execution_count": 0,
      "outputs": [
        {
          "output_type": "display_data",
          "data": {
            "text/html": [
              "\n",
              "     <input type=\"file\" id=\"files-dc1e28a3-c516-4471-b141-037145899c3e\" name=\"files[]\" multiple disabled />\n",
              "     <output id=\"result-dc1e28a3-c516-4471-b141-037145899c3e\">\n",
              "      Upload widget is only available when the cell has been executed in the\n",
              "      current browser session. Please rerun this cell to enable.\n",
              "      </output>\n",
              "      <script src=\"/nbextensions/google.colab/files.js\"></script> "
            ],
            "text/plain": [
              "<IPython.core.display.HTML object>"
            ]
          },
          "metadata": {
            "tags": []
          }
        },
        {
          "output_type": "stream",
          "text": [
            "Saving dadjokes_from_wiki_model_10_epochs_checkpoint.pt to dadjokes_from_wiki_model_10_epochs_checkpoint (1).pt\n",
            "User uploaded file \"dadjokes_from_wiki_model_10_epochs_checkpoint.pt\" with length 53330801 bytes\n"
          ],
          "name": "stdout"
        }
      ]
    },
    {
      "cell_type": "code",
      "metadata": {
        "id": "o1LVlWiJvcpY",
        "colab_type": "code",
        "colab": {}
      },
      "source": [
        "model = torch.load(fn)"
      ],
      "execution_count": 0,
      "outputs": []
    },
    {
      "cell_type": "code",
      "metadata": {
        "id": "ftX3HKi-7CaD",
        "colab_type": "code",
        "outputId": "bb5eb8a4-46a7-4332-b17d-af40858aa771",
        "colab": {
          "base_uri": "https://localhost:8080/",
          "height": 440
        }
      },
      "source": [
        "losses = train(model, \n",
        "               jokes_dataset, \n",
        "               10, \n",
        "               lr=0.01, \n",
        "               batch_size=128, \n",
        "               model_checkpoint_folder=MODEL_CHECKPOINT_FOLDER\n",
        "              )"
      ],
      "execution_count": 0,
      "outputs": [
        {
          "output_type": "stream",
          "text": [
            "  0%|          | 0/1809 [00:00<?, ?it/s]"
          ],
          "name": "stdout"
        },
        {
          "output_type": "stream",
          "text": [
            "/usr/local/lib/python3.6/dist-packages/torch/nn/_reduction.py:16: UserWarning: reduction='elementwise_mean' is deprecated, please use reduction='mean' instead.\n",
            "  warnings.warn(\"reduction='elementwise_mean' is deprecated, please use reduction='mean' instead.\")\n"
          ],
          "name": "stderr"
        },
        {
          "output_type": "stream",
          "text": [
            "                                                                                        \n",
            "Epoch 1 loss: 2.0536029713795685\n"
          ],
          "name": "stdout"
        },
        {
          "output_type": "stream",
          "text": [
            "/usr/local/lib/python3.6/dist-packages/torch/serialization.py:250: UserWarning: Couldn't retrieve source code for container of type CharLstmLanguageModel. It won't be checked for correctness upon loading.\n",
            "  \"type \" + obj.__name__ + \". It won't be checked \"\n"
          ],
          "name": "stderr"
        },
        {
          "output_type": "stream",
          "text": [
            "                                                                                           \n",
            "Epoch 2 loss: 2.0050528563472563\n",
            "                                                                                           \n",
            "Epoch 3 loss: 1.9661188741096678\n",
            "                                                                                           \n",
            "Epoch 4 loss: 1.9397527801193144\n",
            "                                                                                           \n",
            "Epoch 5 loss: 1.934325941364168\n",
            "                                                                                           \n",
            "Epoch 6 loss: 1.9362773379283165\n",
            "                                                                                           \n",
            "Epoch 7 loss: 1.9262171407771282\n",
            "                                                                                           \n",
            "Epoch 8 loss: 1.9572868219326056\n",
            "                                                                                           \n",
            "Epoch 9 loss: 1.9326756192281669\n",
            "                                                                                           \n",
            "Epoch 10 loss: 1.9199754673845535\n"
          ],
          "name": "stdout"
        }
      ]
    },
    {
      "cell_type": "code",
      "metadata": {
        "id": "H7QjGJSn7CfS",
        "colab_type": "code",
        "colab": {}
      },
      "source": [
        "from google.colab import files\n",
        "model_save_path = MODEL_CHECKPOINT_FOLDER + \"dadjokes_from_wiki_model_20_epochs_checkpoint.pt\"\n",
        "torch.save(model, model_save_path)\n",
        "files.download(model_save_path)"
      ],
      "execution_count": 0,
      "outputs": []
    },
    {
      "cell_type": "code",
      "metadata": {
        "id": "LbYzFxxL7Cik",
        "colab_type": "code",
        "colab": {}
      },
      "source": [
        "losses = train(model, \n",
        "               jokes_dataset, \n",
        "               10, \n",
        "               lr=0.001, \n",
        "               batch_size=128, \n",
        "               model_checkpoint_folder=MODEL_CHECKPOINT_FOLDER\n",
        "              )"
      ],
      "execution_count": 0,
      "outputs": []
    },
    {
      "cell_type": "code",
      "metadata": {
        "id": "j3LF9btC7Tsu",
        "colab_type": "code",
        "colab": {}
      },
      "source": [
        "from google.colab import files\n",
        "model_save_path = MODEL_CHECKPOINT_FOLDER + \"dadjokes_from_wiki_model_30_epochs_checkpoint.pt\"\n",
        "torch.save(model, model_save_path)\n",
        "files.download(model_save_path)"
      ],
      "execution_count": 0,
      "outputs": []
    },
    {
      "cell_type": "markdown",
      "metadata": {
        "id": "b1CqxehiGn1F",
        "colab_type": "text"
      },
      "source": [
        "Now we should be able to sample jokes."
      ]
    },
    {
      "cell_type": "code",
      "metadata": {
        "id": "JnDWDcKuGsJX",
        "colab_type": "code",
        "outputId": "b59c2307-b64d-4404-bed9-cc0924b074dd",
        "colab": {
          "base_uri": "https://localhost:8080/",
          "height": 34
        }
      },
      "source": [
        "sample(model, no_unicode=False)"
      ],
      "execution_count": 0,
      "outputs": [
        {
          "output_type": "execute_result",
          "data": {
            "text/plain": [
              "'<s>Aow deeper. Thif to buttcaus the said and MS betwe wellsdis mo Jis.</s>'"
            ]
          },
          "metadata": {
            "tags": []
          },
          "execution_count": 60
        }
      ]
    },
    {
      "cell_type": "code",
      "metadata": {
        "id": "RJaZlPs7GsQm",
        "colab_type": "code",
        "outputId": "88244b27-8c5d-40bc-cc8f-6d80f05536d8",
        "colab": {
          "base_uri": "https://localhost:8080/",
          "height": 34
        }
      },
      "source": [
        "sample(model, no_unicode=True)"
      ],
      "execution_count": 0,
      "outputs": [
        {
          "output_type": "execute_result",
          "data": {
            "text/plain": [
              "'<s>What eirilet a Hanging the bele beer peraligugant... Stemmind to mosriended Comete. I courn Jirdramm</s>'"
            ]
          },
          "metadata": {
            "tags": []
          },
          "execution_count": 63
        }
      ]
    },
    {
      "cell_type": "markdown",
      "metadata": {
        "id": "sHGpaOJUAE42",
        "colab_type": "text"
      },
      "source": [
        "# Next steps\n",
        "\n",
        "\n",
        "*   Use larger Wiki dataset (not fitting in RAM)\n",
        "*   Increase Dad Jokes dataset (scrape)\n",
        "*   Train Dad Jokes model more\n",
        "*   Use word encoder\n",
        "*   Use ASCII only\n",
        "*   Train on lowercase \n",
        "*   Remove jokes too short\n",
        "*   Add validation\n",
        "\n",
        "\n",
        "\n"
      ]
    },
    {
      "cell_type": "code",
      "metadata": {
        "id": "kixi2Da0Gtf8",
        "colab_type": "code",
        "colab": {}
      },
      "source": [
        ""
      ],
      "execution_count": 0,
      "outputs": []
    }
  ]
}